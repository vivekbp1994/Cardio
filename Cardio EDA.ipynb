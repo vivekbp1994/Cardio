{
 "cells": [
  {
   "cell_type": "code",
   "execution_count": 100,
   "metadata": {},
   "outputs": [],
   "source": [
    "import pandas as pd\n",
    "import seaborn as sns\n",
    "import matplotlib.pyplot as plt\n",
    "import numpy as np\n",
    "import missingno as msno\n",
    "import warnings\n",
    "warnings.filterwarnings(\"ignore\")\n",
    "import plotly.express as px\n",
    "from sklearn.model_selection import train_test_split\n",
    "import xgboost as xgb\n",
    "from sklearn.model_selection import GridSearchCV\n",
    "%matplotlib inline"
   ]
  },
  {
   "cell_type": "code",
   "execution_count": 101,
   "metadata": {},
   "outputs": [
    {
     "data": {
      "text/html": [
       "<div>\n",
       "<style scoped>\n",
       "    .dataframe tbody tr th:only-of-type {\n",
       "        vertical-align: middle;\n",
       "    }\n",
       "\n",
       "    .dataframe tbody tr th {\n",
       "        vertical-align: top;\n",
       "    }\n",
       "\n",
       "    .dataframe thead th {\n",
       "        text-align: right;\n",
       "    }\n",
       "</style>\n",
       "<table border=\"1\" class=\"dataframe\">\n",
       "  <thead>\n",
       "    <tr style=\"text-align: right;\">\n",
       "      <th></th>\n",
       "      <th>id</th>\n",
       "      <th>age</th>\n",
       "      <th>gender</th>\n",
       "      <th>height</th>\n",
       "      <th>weight</th>\n",
       "      <th>ap_hi</th>\n",
       "      <th>ap_lo</th>\n",
       "      <th>cholesterol</th>\n",
       "      <th>gluc</th>\n",
       "      <th>smoke</th>\n",
       "      <th>alco</th>\n",
       "      <th>active</th>\n",
       "      <th>cardio</th>\n",
       "    </tr>\n",
       "  </thead>\n",
       "  <tbody>\n",
       "    <tr>\n",
       "      <th>0</th>\n",
       "      <td>988</td>\n",
       "      <td>22469</td>\n",
       "      <td>1</td>\n",
       "      <td>155</td>\n",
       "      <td>69.0</td>\n",
       "      <td>130</td>\n",
       "      <td>80</td>\n",
       "      <td>2</td>\n",
       "      <td>2</td>\n",
       "      <td>0</td>\n",
       "      <td>0</td>\n",
       "      <td>1</td>\n",
       "      <td>0</td>\n",
       "    </tr>\n",
       "    <tr>\n",
       "      <th>1</th>\n",
       "      <td>989</td>\n",
       "      <td>14648</td>\n",
       "      <td>1</td>\n",
       "      <td>163</td>\n",
       "      <td>71.0</td>\n",
       "      <td>110</td>\n",
       "      <td>70</td>\n",
       "      <td>1</td>\n",
       "      <td>1</td>\n",
       "      <td>0</td>\n",
       "      <td>0</td>\n",
       "      <td>1</td>\n",
       "      <td>1</td>\n",
       "    </tr>\n",
       "    <tr>\n",
       "      <th>2</th>\n",
       "      <td>990</td>\n",
       "      <td>21901</td>\n",
       "      <td>1</td>\n",
       "      <td>165</td>\n",
       "      <td>70.0</td>\n",
       "      <td>120</td>\n",
       "      <td>80</td>\n",
       "      <td>1</td>\n",
       "      <td>1</td>\n",
       "      <td>0</td>\n",
       "      <td>0</td>\n",
       "      <td>1</td>\n",
       "      <td>0</td>\n",
       "    </tr>\n",
       "    <tr>\n",
       "      <th>3</th>\n",
       "      <td>991</td>\n",
       "      <td>14549</td>\n",
       "      <td>2</td>\n",
       "      <td>165</td>\n",
       "      <td>85.0</td>\n",
       "      <td>120</td>\n",
       "      <td>80</td>\n",
       "      <td>1</td>\n",
       "      <td>1</td>\n",
       "      <td>1</td>\n",
       "      <td>1</td>\n",
       "      <td>1</td>\n",
       "      <td>0</td>\n",
       "    </tr>\n",
       "    <tr>\n",
       "      <th>4</th>\n",
       "      <td>992</td>\n",
       "      <td>23393</td>\n",
       "      <td>1</td>\n",
       "      <td>155</td>\n",
       "      <td>62.0</td>\n",
       "      <td>120</td>\n",
       "      <td>80</td>\n",
       "      <td>1</td>\n",
       "      <td>1</td>\n",
       "      <td>0</td>\n",
       "      <td>0</td>\n",
       "      <td>1</td>\n",
       "      <td>0</td>\n",
       "    </tr>\n",
       "    <tr>\n",
       "      <th>5</th>\n",
       "      <td>995</td>\n",
       "      <td>21143</td>\n",
       "      <td>1</td>\n",
       "      <td>164</td>\n",
       "      <td>61.0</td>\n",
       "      <td>100</td>\n",
       "      <td>70</td>\n",
       "      <td>1</td>\n",
       "      <td>1</td>\n",
       "      <td>0</td>\n",
       "      <td>0</td>\n",
       "      <td>1</td>\n",
       "      <td>0</td>\n",
       "    </tr>\n",
       "    <tr>\n",
       "      <th>6</th>\n",
       "      <td>996</td>\n",
       "      <td>18085</td>\n",
       "      <td>1</td>\n",
       "      <td>162</td>\n",
       "      <td>72.0</td>\n",
       "      <td>100</td>\n",
       "      <td>70</td>\n",
       "      <td>1</td>\n",
       "      <td>1</td>\n",
       "      <td>0</td>\n",
       "      <td>0</td>\n",
       "      <td>1</td>\n",
       "      <td>0</td>\n",
       "    </tr>\n",
       "    <tr>\n",
       "      <th>7</th>\n",
       "      <td>997</td>\n",
       "      <td>22547</td>\n",
       "      <td>1</td>\n",
       "      <td>161</td>\n",
       "      <td>93.0</td>\n",
       "      <td>140</td>\n",
       "      <td>90</td>\n",
       "      <td>2</td>\n",
       "      <td>1</td>\n",
       "      <td>0</td>\n",
       "      <td>0</td>\n",
       "      <td>1</td>\n",
       "      <td>1</td>\n",
       "    </tr>\n",
       "    <tr>\n",
       "      <th>8</th>\n",
       "      <td>999</td>\n",
       "      <td>21250</td>\n",
       "      <td>1</td>\n",
       "      <td>157</td>\n",
       "      <td>68.0</td>\n",
       "      <td>110</td>\n",
       "      <td>80</td>\n",
       "      <td>1</td>\n",
       "      <td>1</td>\n",
       "      <td>0</td>\n",
       "      <td>0</td>\n",
       "      <td>1</td>\n",
       "      <td>0</td>\n",
       "    </tr>\n",
       "    <tr>\n",
       "      <th>9</th>\n",
       "      <td>1000</td>\n",
       "      <td>22446</td>\n",
       "      <td>1</td>\n",
       "      <td>158</td>\n",
       "      <td>65.0</td>\n",
       "      <td>140</td>\n",
       "      <td>90</td>\n",
       "      <td>3</td>\n",
       "      <td>1</td>\n",
       "      <td>0</td>\n",
       "      <td>0</td>\n",
       "      <td>1</td>\n",
       "      <td>1</td>\n",
       "    </tr>\n",
       "    <tr>\n",
       "      <th>10</th>\n",
       "      <td>1001</td>\n",
       "      <td>16621</td>\n",
       "      <td>1</td>\n",
       "      <td>153</td>\n",
       "      <td>57.0</td>\n",
       "      <td>120</td>\n",
       "      <td>80</td>\n",
       "      <td>3</td>\n",
       "      <td>2</td>\n",
       "      <td>0</td>\n",
       "      <td>0</td>\n",
       "      <td>1</td>\n",
       "      <td>1</td>\n",
       "    </tr>\n",
       "    <tr>\n",
       "      <th>11</th>\n",
       "      <td>1002</td>\n",
       "      <td>20442</td>\n",
       "      <td>2</td>\n",
       "      <td>169</td>\n",
       "      <td>82.0</td>\n",
       "      <td>130</td>\n",
       "      <td>90</td>\n",
       "      <td>1</td>\n",
       "      <td>1</td>\n",
       "      <td>0</td>\n",
       "      <td>0</td>\n",
       "      <td>1</td>\n",
       "      <td>1</td>\n",
       "    </tr>\n",
       "    <tr>\n",
       "      <th>12</th>\n",
       "      <td>1003</td>\n",
       "      <td>23168</td>\n",
       "      <td>2</td>\n",
       "      <td>150</td>\n",
       "      <td>56.0</td>\n",
       "      <td>130</td>\n",
       "      <td>80</td>\n",
       "      <td>2</td>\n",
       "      <td>1</td>\n",
       "      <td>0</td>\n",
       "      <td>0</td>\n",
       "      <td>1</td>\n",
       "      <td>1</td>\n",
       "    </tr>\n",
       "    <tr>\n",
       "      <th>13</th>\n",
       "      <td>1004</td>\n",
       "      <td>22598</td>\n",
       "      <td>1</td>\n",
       "      <td>176</td>\n",
       "      <td>72.0</td>\n",
       "      <td>130</td>\n",
       "      <td>90</td>\n",
       "      <td>1</td>\n",
       "      <td>3</td>\n",
       "      <td>0</td>\n",
       "      <td>0</td>\n",
       "      <td>1</td>\n",
       "      <td>1</td>\n",
       "    </tr>\n",
       "    <tr>\n",
       "      <th>14</th>\n",
       "      <td>1006</td>\n",
       "      <td>20317</td>\n",
       "      <td>1</td>\n",
       "      <td>154</td>\n",
       "      <td>85.0</td>\n",
       "      <td>160</td>\n",
       "      <td>100</td>\n",
       "      <td>3</td>\n",
       "      <td>1</td>\n",
       "      <td>0</td>\n",
       "      <td>0</td>\n",
       "      <td>1</td>\n",
       "      <td>1</td>\n",
       "    </tr>\n",
       "    <tr>\n",
       "      <th>15</th>\n",
       "      <td>1008</td>\n",
       "      <td>23558</td>\n",
       "      <td>1</td>\n",
       "      <td>159</td>\n",
       "      <td>60.0</td>\n",
       "      <td>120</td>\n",
       "      <td>80</td>\n",
       "      <td>1</td>\n",
       "      <td>1</td>\n",
       "      <td>0</td>\n",
       "      <td>0</td>\n",
       "      <td>1</td>\n",
       "      <td>1</td>\n",
       "    </tr>\n",
       "    <tr>\n",
       "      <th>16</th>\n",
       "      <td>1010</td>\n",
       "      <td>20219</td>\n",
       "      <td>2</td>\n",
       "      <td>146</td>\n",
       "      <td>45.0</td>\n",
       "      <td>120</td>\n",
       "      <td>80</td>\n",
       "      <td>1</td>\n",
       "      <td>1</td>\n",
       "      <td>0</td>\n",
       "      <td>0</td>\n",
       "      <td>1</td>\n",
       "      <td>0</td>\n",
       "    </tr>\n",
       "    <tr>\n",
       "      <th>17</th>\n",
       "      <td>1011</td>\n",
       "      <td>19559</td>\n",
       "      <td>1</td>\n",
       "      <td>165</td>\n",
       "      <td>90.0</td>\n",
       "      <td>140</td>\n",
       "      <td>90</td>\n",
       "      <td>1</td>\n",
       "      <td>1</td>\n",
       "      <td>0</td>\n",
       "      <td>0</td>\n",
       "      <td>1</td>\n",
       "      <td>1</td>\n",
       "    </tr>\n",
       "    <tr>\n",
       "      <th>18</th>\n",
       "      <td>1013</td>\n",
       "      <td>20006</td>\n",
       "      <td>2</td>\n",
       "      <td>167</td>\n",
       "      <td>65.0</td>\n",
       "      <td>120</td>\n",
       "      <td>80</td>\n",
       "      <td>1</td>\n",
       "      <td>1</td>\n",
       "      <td>0</td>\n",
       "      <td>0</td>\n",
       "      <td>0</td>\n",
       "      <td>0</td>\n",
       "    </tr>\n",
       "    <tr>\n",
       "      <th>19</th>\n",
       "      <td>1014</td>\n",
       "      <td>19054</td>\n",
       "      <td>1</td>\n",
       "      <td>154</td>\n",
       "      <td>70.0</td>\n",
       "      <td>110</td>\n",
       "      <td>70</td>\n",
       "      <td>1</td>\n",
       "      <td>1</td>\n",
       "      <td>0</td>\n",
       "      <td>0</td>\n",
       "      <td>1</td>\n",
       "      <td>0</td>\n",
       "    </tr>\n",
       "  </tbody>\n",
       "</table>\n",
       "</div>"
      ],
      "text/plain": [
       "      id    age  gender  height  weight  ap_hi  ap_lo  cholesterol  gluc  \\\n",
       "0    988  22469       1     155    69.0    130     80            2     2   \n",
       "1    989  14648       1     163    71.0    110     70            1     1   \n",
       "2    990  21901       1     165    70.0    120     80            1     1   \n",
       "3    991  14549       2     165    85.0    120     80            1     1   \n",
       "4    992  23393       1     155    62.0    120     80            1     1   \n",
       "5    995  21143       1     164    61.0    100     70            1     1   \n",
       "6    996  18085       1     162    72.0    100     70            1     1   \n",
       "7    997  22547       1     161    93.0    140     90            2     1   \n",
       "8    999  21250       1     157    68.0    110     80            1     1   \n",
       "9   1000  22446       1     158    65.0    140     90            3     1   \n",
       "10  1001  16621       1     153    57.0    120     80            3     2   \n",
       "11  1002  20442       2     169    82.0    130     90            1     1   \n",
       "12  1003  23168       2     150    56.0    130     80            2     1   \n",
       "13  1004  22598       1     176    72.0    130     90            1     3   \n",
       "14  1006  20317       1     154    85.0    160    100            3     1   \n",
       "15  1008  23558       1     159    60.0    120     80            1     1   \n",
       "16  1010  20219       2     146    45.0    120     80            1     1   \n",
       "17  1011  19559       1     165    90.0    140     90            1     1   \n",
       "18  1013  20006       2     167    65.0    120     80            1     1   \n",
       "19  1014  19054       1     154    70.0    110     70            1     1   \n",
       "\n",
       "    smoke  alco  active  cardio  \n",
       "0       0     0       1       0  \n",
       "1       0     0       1       1  \n",
       "2       0     0       1       0  \n",
       "3       1     1       1       0  \n",
       "4       0     0       1       0  \n",
       "5       0     0       1       0  \n",
       "6       0     0       1       0  \n",
       "7       0     0       1       1  \n",
       "8       0     0       1       0  \n",
       "9       0     0       1       1  \n",
       "10      0     0       1       1  \n",
       "11      0     0       1       1  \n",
       "12      0     0       1       1  \n",
       "13      0     0       1       1  \n",
       "14      0     0       1       1  \n",
       "15      0     0       1       1  \n",
       "16      0     0       1       0  \n",
       "17      0     0       1       1  \n",
       "18      0     0       0       0  \n",
       "19      0     0       1       0  "
      ]
     },
     "execution_count": 101,
     "metadata": {},
     "output_type": "execute_result"
    }
   ],
   "source": [
    "df = pd.read_csv('cardio_train.csv', delimiter=';')\n",
    "df.head(20)"
   ]
  },
  {
   "cell_type": "code",
   "execution_count": 102,
   "metadata": {},
   "outputs": [
    {
     "data": {
      "text/plain": [
       "(69301, 13)"
      ]
     },
     "execution_count": 102,
     "metadata": {},
     "output_type": "execute_result"
    }
   ],
   "source": [
    "df.shape"
   ]
  },
  {
   "cell_type": "code",
   "execution_count": 103,
   "metadata": {},
   "outputs": [
    {
     "data": {
      "text/plain": [
       "0    34679\n",
       "1    34622\n",
       "Name: cardio, dtype: int64"
      ]
     },
     "execution_count": 103,
     "metadata": {},
     "output_type": "execute_result"
    }
   ],
   "source": [
    "df['cardio'].value_counts()"
   ]
  },
  {
   "cell_type": "code",
   "execution_count": 104,
   "metadata": {},
   "outputs": [
    {
     "data": {
      "text/plain": [
       "(69301, 13)"
      ]
     },
     "execution_count": 104,
     "metadata": {},
     "output_type": "execute_result"
    }
   ],
   "source": [
    "df.drop_duplicates(inplace=True)\n",
    "df.shape"
   ]
  },
  {
   "cell_type": "code",
   "execution_count": 105,
   "metadata": {},
   "outputs": [
    {
     "data": {
      "text/html": [
       "<div>\n",
       "<style scoped>\n",
       "    .dataframe tbody tr th:only-of-type {\n",
       "        vertical-align: middle;\n",
       "    }\n",
       "\n",
       "    .dataframe tbody tr th {\n",
       "        vertical-align: top;\n",
       "    }\n",
       "\n",
       "    .dataframe thead th {\n",
       "        text-align: right;\n",
       "    }\n",
       "</style>\n",
       "<table border=\"1\" class=\"dataframe\">\n",
       "  <thead>\n",
       "    <tr style=\"text-align: right;\">\n",
       "      <th></th>\n",
       "      <th>id</th>\n",
       "      <th>age</th>\n",
       "      <th>gender</th>\n",
       "      <th>height</th>\n",
       "      <th>weight</th>\n",
       "      <th>ap_hi</th>\n",
       "      <th>ap_lo</th>\n",
       "      <th>cholesterol</th>\n",
       "      <th>gluc</th>\n",
       "      <th>smoke</th>\n",
       "      <th>alco</th>\n",
       "      <th>active</th>\n",
       "      <th>cardio</th>\n",
       "    </tr>\n",
       "  </thead>\n",
       "  <tbody>\n",
       "    <tr>\n",
       "      <th>0</th>\n",
       "      <td>988</td>\n",
       "      <td>61.558904</td>\n",
       "      <td>1</td>\n",
       "      <td>155</td>\n",
       "      <td>69.0</td>\n",
       "      <td>130</td>\n",
       "      <td>80</td>\n",
       "      <td>2</td>\n",
       "      <td>2</td>\n",
       "      <td>0</td>\n",
       "      <td>0</td>\n",
       "      <td>1</td>\n",
       "      <td>0</td>\n",
       "    </tr>\n",
       "    <tr>\n",
       "      <th>1</th>\n",
       "      <td>989</td>\n",
       "      <td>40.131507</td>\n",
       "      <td>1</td>\n",
       "      <td>163</td>\n",
       "      <td>71.0</td>\n",
       "      <td>110</td>\n",
       "      <td>70</td>\n",
       "      <td>1</td>\n",
       "      <td>1</td>\n",
       "      <td>0</td>\n",
       "      <td>0</td>\n",
       "      <td>1</td>\n",
       "      <td>1</td>\n",
       "    </tr>\n",
       "    <tr>\n",
       "      <th>2</th>\n",
       "      <td>990</td>\n",
       "      <td>60.002740</td>\n",
       "      <td>1</td>\n",
       "      <td>165</td>\n",
       "      <td>70.0</td>\n",
       "      <td>120</td>\n",
       "      <td>80</td>\n",
       "      <td>1</td>\n",
       "      <td>1</td>\n",
       "      <td>0</td>\n",
       "      <td>0</td>\n",
       "      <td>1</td>\n",
       "      <td>0</td>\n",
       "    </tr>\n",
       "    <tr>\n",
       "      <th>3</th>\n",
       "      <td>991</td>\n",
       "      <td>39.860274</td>\n",
       "      <td>2</td>\n",
       "      <td>165</td>\n",
       "      <td>85.0</td>\n",
       "      <td>120</td>\n",
       "      <td>80</td>\n",
       "      <td>1</td>\n",
       "      <td>1</td>\n",
       "      <td>1</td>\n",
       "      <td>1</td>\n",
       "      <td>1</td>\n",
       "      <td>0</td>\n",
       "    </tr>\n",
       "    <tr>\n",
       "      <th>4</th>\n",
       "      <td>992</td>\n",
       "      <td>64.090411</td>\n",
       "      <td>1</td>\n",
       "      <td>155</td>\n",
       "      <td>62.0</td>\n",
       "      <td>120</td>\n",
       "      <td>80</td>\n",
       "      <td>1</td>\n",
       "      <td>1</td>\n",
       "      <td>0</td>\n",
       "      <td>0</td>\n",
       "      <td>1</td>\n",
       "      <td>0</td>\n",
       "    </tr>\n",
       "  </tbody>\n",
       "</table>\n",
       "</div>"
      ],
      "text/plain": [
       "    id        age  gender  height  weight  ap_hi  ap_lo  cholesterol  gluc  \\\n",
       "0  988  61.558904       1     155    69.0    130     80            2     2   \n",
       "1  989  40.131507       1     163    71.0    110     70            1     1   \n",
       "2  990  60.002740       1     165    70.0    120     80            1     1   \n",
       "3  991  39.860274       2     165    85.0    120     80            1     1   \n",
       "4  992  64.090411       1     155    62.0    120     80            1     1   \n",
       "\n",
       "   smoke  alco  active  cardio  \n",
       "0      0     0       1       0  \n",
       "1      0     0       1       1  \n",
       "2      0     0       1       0  \n",
       "3      1     1       1       0  \n",
       "4      0     0       1       0  "
      ]
     },
     "execution_count": 105,
     "metadata": {},
     "output_type": "execute_result"
    }
   ],
   "source": [
    "df['age'] = df['age'] / 365\n",
    "df.head()"
   ]
  },
  {
   "cell_type": "code",
   "execution_count": 106,
   "metadata": {},
   "outputs": [
    {
     "data": {
      "text/plain": [
       "<matplotlib.axes._subplots.AxesSubplot at 0x28d065d7988>"
      ]
     },
     "execution_count": 106,
     "metadata": {},
     "output_type": "execute_result"
    },
    {
     "data": {
      "image/png": "[encoded data removed]",
      "text/plain": [
       "<Figure size 432x288 with 1 Axes>"
      ]
     },
     "metadata": {
      "needs_background": "light"
     },
     "output_type": "display_data"
    }
   ],
   "source": [
    "sns.distplot(df['age'])"
   ]
  },
  {
   "cell_type": "code",
   "execution_count": 107,
   "metadata": {},
   "outputs": [
    {
     "data": {
      "text/html": [
       "<div>\n",
       "<style scoped>\n",
       "    .dataframe tbody tr th:only-of-type {\n",
       "        vertical-align: middle;\n",
       "    }\n",
       "\n",
       "    .dataframe tbody tr th {\n",
       "        vertical-align: top;\n",
       "    }\n",
       "\n",
       "    .dataframe thead th {\n",
       "        text-align: right;\n",
       "    }\n",
       "</style>\n",
       "<table border=\"1\" class=\"dataframe\">\n",
       "  <thead>\n",
       "    <tr style=\"text-align: right;\">\n",
       "      <th></th>\n",
       "      <th>id</th>\n",
       "      <th>age</th>\n",
       "      <th>gender</th>\n",
       "      <th>height</th>\n",
       "      <th>weight</th>\n",
       "      <th>ap_hi</th>\n",
       "      <th>ap_lo</th>\n",
       "      <th>cholesterol</th>\n",
       "      <th>gluc</th>\n",
       "      <th>smoke</th>\n",
       "      <th>alco</th>\n",
       "      <th>active</th>\n",
       "      <th>cardio</th>\n",
       "      <th>age range</th>\n",
       "    </tr>\n",
       "  </thead>\n",
       "  <tbody>\n",
       "    <tr>\n",
       "      <th>0</th>\n",
       "      <td>988</td>\n",
       "      <td>61.558904</td>\n",
       "      <td>1</td>\n",
       "      <td>155</td>\n",
       "      <td>69.0</td>\n",
       "      <td>130</td>\n",
       "      <td>80</td>\n",
       "      <td>2</td>\n",
       "      <td>2</td>\n",
       "      <td>0</td>\n",
       "      <td>0</td>\n",
       "      <td>1</td>\n",
       "      <td>0</td>\n",
       "      <td>(40.0, 65.0]</td>\n",
       "    </tr>\n",
       "    <tr>\n",
       "      <th>1</th>\n",
       "      <td>989</td>\n",
       "      <td>40.131507</td>\n",
       "      <td>1</td>\n",
       "      <td>163</td>\n",
       "      <td>71.0</td>\n",
       "      <td>110</td>\n",
       "      <td>70</td>\n",
       "      <td>1</td>\n",
       "      <td>1</td>\n",
       "      <td>0</td>\n",
       "      <td>0</td>\n",
       "      <td>1</td>\n",
       "      <td>1</td>\n",
       "      <td>(40.0, 65.0]</td>\n",
       "    </tr>\n",
       "    <tr>\n",
       "      <th>2</th>\n",
       "      <td>990</td>\n",
       "      <td>60.002740</td>\n",
       "      <td>1</td>\n",
       "      <td>165</td>\n",
       "      <td>70.0</td>\n",
       "      <td>120</td>\n",
       "      <td>80</td>\n",
       "      <td>1</td>\n",
       "      <td>1</td>\n",
       "      <td>0</td>\n",
       "      <td>0</td>\n",
       "      <td>1</td>\n",
       "      <td>0</td>\n",
       "      <td>(40.0, 65.0]</td>\n",
       "    </tr>\n",
       "    <tr>\n",
       "      <th>3</th>\n",
       "      <td>991</td>\n",
       "      <td>39.860274</td>\n",
       "      <td>2</td>\n",
       "      <td>165</td>\n",
       "      <td>85.0</td>\n",
       "      <td>120</td>\n",
       "      <td>80</td>\n",
       "      <td>1</td>\n",
       "      <td>1</td>\n",
       "      <td>1</td>\n",
       "      <td>1</td>\n",
       "      <td>1</td>\n",
       "      <td>0</td>\n",
       "      <td>(18.0, 40.0]</td>\n",
       "    </tr>\n",
       "    <tr>\n",
       "      <th>4</th>\n",
       "      <td>992</td>\n",
       "      <td>64.090411</td>\n",
       "      <td>1</td>\n",
       "      <td>155</td>\n",
       "      <td>62.0</td>\n",
       "      <td>120</td>\n",
       "      <td>80</td>\n",
       "      <td>1</td>\n",
       "      <td>1</td>\n",
       "      <td>0</td>\n",
       "      <td>0</td>\n",
       "      <td>1</td>\n",
       "      <td>0</td>\n",
       "      <td>(40.0, 65.0]</td>\n",
       "    </tr>\n",
       "  </tbody>\n",
       "</table>\n",
       "</div>"
      ],
      "text/plain": [
       "    id        age  gender  height  weight  ap_hi  ap_lo  cholesterol  gluc  \\\n",
       "0  988  61.558904       1     155    69.0    130     80            2     2   \n",
       "1  989  40.131507       1     163    71.0    110     70            1     1   \n",
       "2  990  60.002740       1     165    70.0    120     80            1     1   \n",
       "3  991  39.860274       2     165    85.0    120     80            1     1   \n",
       "4  992  64.090411       1     155    62.0    120     80            1     1   \n",
       "\n",
       "   smoke  alco  active  cardio     age range  \n",
       "0      0     0       1       0  (40.0, 65.0]  \n",
       "1      0     0       1       1  (40.0, 65.0]  \n",
       "2      0     0       1       0  (40.0, 65.0]  \n",
       "3      1     1       1       0  (18.0, 40.0]  \n",
       "4      0     0       1       0  (40.0, 65.0]  "
      ]
     },
     "execution_count": 107,
     "metadata": {},
     "output_type": "execute_result"
    }
   ],
   "source": [
    "df['age range'] = pd.cut(df.age, [0, 18, 40, 65, 100], include_lowest=True)\n",
    "df.head()"
   ]
  },
  {
   "cell_type": "code",
   "execution_count": 108,
   "metadata": {},
   "outputs": [
    {
     "data": {
      "text/plain": [
       "(40.0, 65.0]      67529\n",
       "(18.0, 40.0]       1772\n",
       "(65.0, 100.0]         0\n",
       "(-0.001, 18.0]        0\n",
       "Name: age range, dtype: int64"
      ]
     },
     "execution_count": 108,
     "metadata": {},
     "output_type": "execute_result"
    }
   ],
   "source": [
    "df['age range'].value_counts()"
   ]
  },
  {
   "cell_type": "markdown",
   "metadata": {},
   "source": [
    "All adult population and no one above age 65"
   ]
  },
  {
   "cell_type": "code",
   "execution_count": 109,
   "metadata": {},
   "outputs": [
    {
     "data": {
      "text/plain": [
       "1    45079\n",
       "2    24222\n",
       "Name: gender, dtype: int64"
      ]
     },
     "execution_count": 109,
     "metadata": {},
     "output_type": "execute_result"
    }
   ],
   "source": [
    "df['gender'].value_counts()"
   ]
  },
  {
   "cell_type": "code",
   "execution_count": 110,
   "metadata": {},
   "outputs": [
    {
     "data": {
      "text/plain": [
       "<seaborn.axisgrid.FacetGrid at 0x28d06b75808>"
      ]
     },
     "execution_count": 110,
     "metadata": {},
     "output_type": "execute_result"
    },
    {
     "data": {
      "image/png": "[encoded data removed]",
      "text/plain": [
       "<Figure size 405.725x360 with 1 Axes>"
      ]
     },
     "metadata": {
      "needs_background": "light"
     },
     "output_type": "display_data"
    }
   ],
   "source": [
    "sns.catplot(y=\"cardio\", hue=\"gender\", kind=\"count\",\n",
    "            palette=\"pastel\", edgecolor=\".6\",\n",
    "            data=df)"
   ]
  },
  {
   "cell_type": "markdown",
   "metadata": {},
   "source": [
    "More numner of males in dataset influencing this"
   ]
  },
  {
   "cell_type": "code",
   "execution_count": 111,
   "metadata": {},
   "outputs": [
    {
     "data": {
      "text/plain": [
       "<seaborn.axisgrid.FacetGrid at 0x28d065abc88>"
      ]
     },
     "execution_count": 111,
     "metadata": {},
     "output_type": "execute_result"
    },
    {
     "data": {
      "image/png": "[encoded data removed]",
      "text/plain": [
       "<Figure size 405.725x360 with 1 Axes>"
      ]
     },
     "metadata": {
      "needs_background": "light"
     },
     "output_type": "display_data"
    }
   ],
   "source": [
    "sns.catplot(x=\"age range\", y=\"cardio\", hue=\"gender\", kind=\"bar\", data=df, ci=None)"
   ]
  },
  {
   "cell_type": "markdown",
   "metadata": {},
   "source": [
    "Females seem to be more prone to cardio"
   ]
  },
  {
   "cell_type": "code",
   "execution_count": 112,
   "metadata": {},
   "outputs": [
    {
     "data": {
      "text/plain": [
       "0.00     55.0\n",
       "0.10    155.0\n",
       "0.25    159.0\n",
       "0.50    165.0\n",
       "0.75    170.0\n",
       "0.90    175.0\n",
       "1.00    250.0\n",
       "Name: height, dtype: float64"
      ]
     },
     "execution_count": 112,
     "metadata": {},
     "output_type": "execute_result"
    }
   ],
   "source": [
    "df['height'].quantile([0, 0.1, 0.25, 0.5, 0.75, 0.9, 1])"
   ]
  },
  {
   "cell_type": "code",
   "execution_count": 113,
   "metadata": {},
   "outputs": [
    {
     "data": {
      "text/html": [
       "<div>\n",
       "<style scoped>\n",
       "    .dataframe tbody tr th:only-of-type {\n",
       "        vertical-align: middle;\n",
       "    }\n",
       "\n",
       "    .dataframe tbody tr th {\n",
       "        vertical-align: top;\n",
       "    }\n",
       "\n",
       "    .dataframe thead th {\n",
       "        text-align: right;\n",
       "    }\n",
       "</style>\n",
       "<table border=\"1\" class=\"dataframe\">\n",
       "  <thead>\n",
       "    <tr style=\"text-align: right;\">\n",
       "      <th></th>\n",
       "      <th>id</th>\n",
       "      <th>age</th>\n",
       "      <th>gender</th>\n",
       "      <th>height</th>\n",
       "      <th>weight</th>\n",
       "      <th>ap_hi</th>\n",
       "      <th>ap_lo</th>\n",
       "      <th>cholesterol</th>\n",
       "      <th>gluc</th>\n",
       "      <th>smoke</th>\n",
       "      <th>alco</th>\n",
       "      <th>active</th>\n",
       "      <th>cardio</th>\n",
       "      <th>age range</th>\n",
       "      <th>height range</th>\n",
       "    </tr>\n",
       "  </thead>\n",
       "  <tbody>\n",
       "    <tr>\n",
       "      <th>0</th>\n",
       "      <td>988</td>\n",
       "      <td>61.558904</td>\n",
       "      <td>1</td>\n",
       "      <td>155</td>\n",
       "      <td>69.0</td>\n",
       "      <td>130</td>\n",
       "      <td>80</td>\n",
       "      <td>2</td>\n",
       "      <td>2</td>\n",
       "      <td>0</td>\n",
       "      <td>0</td>\n",
       "      <td>1</td>\n",
       "      <td>0</td>\n",
       "      <td>(40.0, 65.0]</td>\n",
       "      <td>(150.0, 200.0]</td>\n",
       "    </tr>\n",
       "    <tr>\n",
       "      <th>1</th>\n",
       "      <td>989</td>\n",
       "      <td>40.131507</td>\n",
       "      <td>1</td>\n",
       "      <td>163</td>\n",
       "      <td>71.0</td>\n",
       "      <td>110</td>\n",
       "      <td>70</td>\n",
       "      <td>1</td>\n",
       "      <td>1</td>\n",
       "      <td>0</td>\n",
       "      <td>0</td>\n",
       "      <td>1</td>\n",
       "      <td>1</td>\n",
       "      <td>(40.0, 65.0]</td>\n",
       "      <td>(150.0, 200.0]</td>\n",
       "    </tr>\n",
       "    <tr>\n",
       "      <th>2</th>\n",
       "      <td>990</td>\n",
       "      <td>60.002740</td>\n",
       "      <td>1</td>\n",
       "      <td>165</td>\n",
       "      <td>70.0</td>\n",
       "      <td>120</td>\n",
       "      <td>80</td>\n",
       "      <td>1</td>\n",
       "      <td>1</td>\n",
       "      <td>0</td>\n",
       "      <td>0</td>\n",
       "      <td>1</td>\n",
       "      <td>0</td>\n",
       "      <td>(40.0, 65.0]</td>\n",
       "      <td>(150.0, 200.0]</td>\n",
       "    </tr>\n",
       "    <tr>\n",
       "      <th>3</th>\n",
       "      <td>991</td>\n",
       "      <td>39.860274</td>\n",
       "      <td>2</td>\n",
       "      <td>165</td>\n",
       "      <td>85.0</td>\n",
       "      <td>120</td>\n",
       "      <td>80</td>\n",
       "      <td>1</td>\n",
       "      <td>1</td>\n",
       "      <td>1</td>\n",
       "      <td>1</td>\n",
       "      <td>1</td>\n",
       "      <td>0</td>\n",
       "      <td>(18.0, 40.0]</td>\n",
       "      <td>(150.0, 200.0]</td>\n",
       "    </tr>\n",
       "    <tr>\n",
       "      <th>4</th>\n",
       "      <td>992</td>\n",
       "      <td>64.090411</td>\n",
       "      <td>1</td>\n",
       "      <td>155</td>\n",
       "      <td>62.0</td>\n",
       "      <td>120</td>\n",
       "      <td>80</td>\n",
       "      <td>1</td>\n",
       "      <td>1</td>\n",
       "      <td>0</td>\n",
       "      <td>0</td>\n",
       "      <td>1</td>\n",
       "      <td>0</td>\n",
       "      <td>(40.0, 65.0]</td>\n",
       "      <td>(150.0, 200.0]</td>\n",
       "    </tr>\n",
       "  </tbody>\n",
       "</table>\n",
       "</div>"
      ],
      "text/plain": [
       "    id        age  gender  height  weight  ap_hi  ap_lo  cholesterol  gluc  \\\n",
       "0  988  61.558904       1     155    69.0    130     80            2     2   \n",
       "1  989  40.131507       1     163    71.0    110     70            1     1   \n",
       "2  990  60.002740       1     165    70.0    120     80            1     1   \n",
       "3  991  39.860274       2     165    85.0    120     80            1     1   \n",
       "4  992  64.090411       1     155    62.0    120     80            1     1   \n",
       "\n",
       "   smoke  alco  active  cardio     age range    height range  \n",
       "0      0     0       1       0  (40.0, 65.0]  (150.0, 200.0]  \n",
       "1      0     0       1       1  (40.0, 65.0]  (150.0, 200.0]  \n",
       "2      0     0       1       0  (40.0, 65.0]  (150.0, 200.0]  \n",
       "3      1     1       1       0  (18.0, 40.0]  (150.0, 200.0]  \n",
       "4      0     0       1       0  (40.0, 65.0]  (150.0, 200.0]  "
      ]
     },
     "execution_count": 113,
     "metadata": {},
     "output_type": "execute_result"
    }
   ],
   "source": [
    "df['height range'] = pd.cut(df.height, [0, 100, 150, 200, 255], include_lowest=True)\n",
    "df.head()"
   ]
  },
  {
   "cell_type": "code",
   "execution_count": 114,
   "metadata": {},
   "outputs": [
    {
     "data": {
      "text/plain": [
       "(150.0, 200.0]     66741\n",
       "(100.0, 150.0]      2527\n",
       "(-0.001, 100.0]       31\n",
       "(200.0, 255.0]         2\n",
       "Name: height range, dtype: int64"
      ]
     },
     "execution_count": 114,
     "metadata": {},
     "output_type": "execute_result"
    }
   ],
   "source": [
    "df['height range'].value_counts()"
   ]
  },
  {
   "cell_type": "code",
   "execution_count": 115,
   "metadata": {},
   "outputs": [
    {
     "data": {
      "text/plain": [
       "<seaborn.axisgrid.FacetGrid at 0x28d05af0d88>"
      ]
     },
     "execution_count": 115,
     "metadata": {},
     "output_type": "execute_result"
    },
    {
     "data": {
      "image/png": "[encoded data removed]",
      "text/plain": [
       "<Figure size 405.725x360 with 1 Axes>"
      ]
     },
     "metadata": {
      "needs_background": "light"
     },
     "output_type": "display_data"
    }
   ],
   "source": [
    "sns.catplot(x=\"height range\", y=\"cardio\", hue=\"gender\", kind=\"bar\", data=df, ci=None)"
   ]
  },
  {
   "cell_type": "markdown",
   "metadata": {},
   "source": [
    "**Form research questions based on plot**"
   ]
  },
  {
   "cell_type": "code",
   "execution_count": 116,
   "metadata": {},
   "outputs": [
    {
     "data": {
      "text/html": [
       "<div>\n",
       "<style scoped>\n",
       "    .dataframe tbody tr th:only-of-type {\n",
       "        vertical-align: middle;\n",
       "    }\n",
       "\n",
       "    .dataframe tbody tr th {\n",
       "        vertical-align: top;\n",
       "    }\n",
       "\n",
       "    .dataframe thead th {\n",
       "        text-align: right;\n",
       "    }\n",
       "</style>\n",
       "<table border=\"1\" class=\"dataframe\">\n",
       "  <thead>\n",
       "    <tr style=\"text-align: right;\">\n",
       "      <th></th>\n",
       "      <th>id</th>\n",
       "      <th>age</th>\n",
       "      <th>gender</th>\n",
       "      <th>height</th>\n",
       "      <th>weight</th>\n",
       "      <th>ap_hi</th>\n",
       "      <th>ap_lo</th>\n",
       "      <th>cholesterol</th>\n",
       "      <th>gluc</th>\n",
       "      <th>smoke</th>\n",
       "      <th>alco</th>\n",
       "      <th>active</th>\n",
       "      <th>cardio</th>\n",
       "      <th>age range</th>\n",
       "      <th>height range</th>\n",
       "      <th>bmi</th>\n",
       "    </tr>\n",
       "  </thead>\n",
       "  <tbody>\n",
       "    <tr>\n",
       "      <th>0</th>\n",
       "      <td>988</td>\n",
       "      <td>61.558904</td>\n",
       "      <td>1</td>\n",
       "      <td>155</td>\n",
       "      <td>69.0</td>\n",
       "      <td>130</td>\n",
       "      <td>80</td>\n",
       "      <td>2</td>\n",
       "      <td>2</td>\n",
       "      <td>0</td>\n",
       "      <td>0</td>\n",
       "      <td>1</td>\n",
       "      <td>0</td>\n",
       "      <td>(40.0, 65.0]</td>\n",
       "      <td>(150.0, 200.0]</td>\n",
       "      <td>28.720083</td>\n",
       "    </tr>\n",
       "    <tr>\n",
       "      <th>1</th>\n",
       "      <td>989</td>\n",
       "      <td>40.131507</td>\n",
       "      <td>1</td>\n",
       "      <td>163</td>\n",
       "      <td>71.0</td>\n",
       "      <td>110</td>\n",
       "      <td>70</td>\n",
       "      <td>1</td>\n",
       "      <td>1</td>\n",
       "      <td>0</td>\n",
       "      <td>0</td>\n",
       "      <td>1</td>\n",
       "      <td>1</td>\n",
       "      <td>(40.0, 65.0]</td>\n",
       "      <td>(150.0, 200.0]</td>\n",
       "      <td>26.722873</td>\n",
       "    </tr>\n",
       "    <tr>\n",
       "      <th>2</th>\n",
       "      <td>990</td>\n",
       "      <td>60.002740</td>\n",
       "      <td>1</td>\n",
       "      <td>165</td>\n",
       "      <td>70.0</td>\n",
       "      <td>120</td>\n",
       "      <td>80</td>\n",
       "      <td>1</td>\n",
       "      <td>1</td>\n",
       "      <td>0</td>\n",
       "      <td>0</td>\n",
       "      <td>1</td>\n",
       "      <td>0</td>\n",
       "      <td>(40.0, 65.0]</td>\n",
       "      <td>(150.0, 200.0]</td>\n",
       "      <td>25.711662</td>\n",
       "    </tr>\n",
       "    <tr>\n",
       "      <th>3</th>\n",
       "      <td>991</td>\n",
       "      <td>39.860274</td>\n",
       "      <td>2</td>\n",
       "      <td>165</td>\n",
       "      <td>85.0</td>\n",
       "      <td>120</td>\n",
       "      <td>80</td>\n",
       "      <td>1</td>\n",
       "      <td>1</td>\n",
       "      <td>1</td>\n",
       "      <td>1</td>\n",
       "      <td>1</td>\n",
       "      <td>0</td>\n",
       "      <td>(18.0, 40.0]</td>\n",
       "      <td>(150.0, 200.0]</td>\n",
       "      <td>31.221304</td>\n",
       "    </tr>\n",
       "    <tr>\n",
       "      <th>4</th>\n",
       "      <td>992</td>\n",
       "      <td>64.090411</td>\n",
       "      <td>1</td>\n",
       "      <td>155</td>\n",
       "      <td>62.0</td>\n",
       "      <td>120</td>\n",
       "      <td>80</td>\n",
       "      <td>1</td>\n",
       "      <td>1</td>\n",
       "      <td>0</td>\n",
       "      <td>0</td>\n",
       "      <td>1</td>\n",
       "      <td>0</td>\n",
       "      <td>(40.0, 65.0]</td>\n",
       "      <td>(150.0, 200.0]</td>\n",
       "      <td>25.806452</td>\n",
       "    </tr>\n",
       "  </tbody>\n",
       "</table>\n",
       "</div>"
      ],
      "text/plain": [
       "    id        age  gender  height  weight  ap_hi  ap_lo  cholesterol  gluc  \\\n",
       "0  988  61.558904       1     155    69.0    130     80            2     2   \n",
       "1  989  40.131507       1     163    71.0    110     70            1     1   \n",
       "2  990  60.002740       1     165    70.0    120     80            1     1   \n",
       "3  991  39.860274       2     165    85.0    120     80            1     1   \n",
       "4  992  64.090411       1     155    62.0    120     80            1     1   \n",
       "\n",
       "   smoke  alco  active  cardio     age range    height range        bmi  \n",
       "0      0     0       1       0  (40.0, 65.0]  (150.0, 200.0]  28.720083  \n",
       "1      0     0       1       1  (40.0, 65.0]  (150.0, 200.0]  26.722873  \n",
       "2      0     0       1       0  (40.0, 65.0]  (150.0, 200.0]  25.711662  \n",
       "3      1     1       1       0  (18.0, 40.0]  (150.0, 200.0]  31.221304  \n",
       "4      0     0       1       0  (40.0, 65.0]  (150.0, 200.0]  25.806452  "
      ]
     },
     "execution_count": 116,
     "metadata": {},
     "output_type": "execute_result"
    }
   ],
   "source": [
    "df['bmi'] = (df['weight'] * 10000) / (df['height'] * df['height'])\n",
    "df.head()"
   ]
  },
  {
   "cell_type": "code",
   "execution_count": 117,
   "metadata": {},
   "outputs": [
    {
     "data": {
      "text/plain": [
       "0.00      3.471784\n",
       "0.10     22.074100\n",
       "0.25     23.875115\n",
       "0.50     26.370238\n",
       "0.75     30.222222\n",
       "0.90     34.527089\n",
       "1.00    298.666667\n",
       "Name: bmi, dtype: float64"
      ]
     },
     "execution_count": 117,
     "metadata": {},
     "output_type": "execute_result"
    }
   ],
   "source": [
    "df['bmi'].quantile([0, 0.1, 0.25, 0.5, 0.75, 0.9, 1])"
   ]
  },
  {
   "cell_type": "markdown",
   "metadata": {},
   "source": [
    "Usual BMI value falls within 18 to 25"
   ]
  },
  {
   "cell_type": "code",
   "execution_count": 118,
   "metadata": {},
   "outputs": [
    {
     "data": {
      "text/html": [
       "<div>\n",
       "<style scoped>\n",
       "    .dataframe tbody tr th:only-of-type {\n",
       "        vertical-align: middle;\n",
       "    }\n",
       "\n",
       "    .dataframe tbody tr th {\n",
       "        vertical-align: top;\n",
       "    }\n",
       "\n",
       "    .dataframe thead th {\n",
       "        text-align: right;\n",
       "    }\n",
       "</style>\n",
       "<table border=\"1\" class=\"dataframe\">\n",
       "  <thead>\n",
       "    <tr style=\"text-align: right;\">\n",
       "      <th></th>\n",
       "      <th>id</th>\n",
       "      <th>age</th>\n",
       "      <th>gender</th>\n",
       "      <th>height</th>\n",
       "      <th>weight</th>\n",
       "      <th>ap_hi</th>\n",
       "      <th>ap_lo</th>\n",
       "      <th>cholesterol</th>\n",
       "      <th>gluc</th>\n",
       "      <th>smoke</th>\n",
       "      <th>alco</th>\n",
       "      <th>active</th>\n",
       "      <th>cardio</th>\n",
       "      <th>age range</th>\n",
       "      <th>height range</th>\n",
       "      <th>bmi</th>\n",
       "      <th>bmi range</th>\n",
       "    </tr>\n",
       "  </thead>\n",
       "  <tbody>\n",
       "    <tr>\n",
       "      <th>0</th>\n",
       "      <td>988</td>\n",
       "      <td>61.558904</td>\n",
       "      <td>1</td>\n",
       "      <td>155</td>\n",
       "      <td>69.0</td>\n",
       "      <td>130</td>\n",
       "      <td>80</td>\n",
       "      <td>2</td>\n",
       "      <td>2</td>\n",
       "      <td>0</td>\n",
       "      <td>0</td>\n",
       "      <td>1</td>\n",
       "      <td>0</td>\n",
       "      <td>(40.0, 65.0]</td>\n",
       "      <td>(150.0, 200.0]</td>\n",
       "      <td>28.720083</td>\n",
       "      <td>(25.0, 30.0]</td>\n",
       "    </tr>\n",
       "    <tr>\n",
       "      <th>1</th>\n",
       "      <td>989</td>\n",
       "      <td>40.131507</td>\n",
       "      <td>1</td>\n",
       "      <td>163</td>\n",
       "      <td>71.0</td>\n",
       "      <td>110</td>\n",
       "      <td>70</td>\n",
       "      <td>1</td>\n",
       "      <td>1</td>\n",
       "      <td>0</td>\n",
       "      <td>0</td>\n",
       "      <td>1</td>\n",
       "      <td>1</td>\n",
       "      <td>(40.0, 65.0]</td>\n",
       "      <td>(150.0, 200.0]</td>\n",
       "      <td>26.722873</td>\n",
       "      <td>(25.0, 30.0]</td>\n",
       "    </tr>\n",
       "    <tr>\n",
       "      <th>2</th>\n",
       "      <td>990</td>\n",
       "      <td>60.002740</td>\n",
       "      <td>1</td>\n",
       "      <td>165</td>\n",
       "      <td>70.0</td>\n",
       "      <td>120</td>\n",
       "      <td>80</td>\n",
       "      <td>1</td>\n",
       "      <td>1</td>\n",
       "      <td>0</td>\n",
       "      <td>0</td>\n",
       "      <td>1</td>\n",
       "      <td>0</td>\n",
       "      <td>(40.0, 65.0]</td>\n",
       "      <td>(150.0, 200.0]</td>\n",
       "      <td>25.711662</td>\n",
       "      <td>(25.0, 30.0]</td>\n",
       "    </tr>\n",
       "    <tr>\n",
       "      <th>3</th>\n",
       "      <td>991</td>\n",
       "      <td>39.860274</td>\n",
       "      <td>2</td>\n",
       "      <td>165</td>\n",
       "      <td>85.0</td>\n",
       "      <td>120</td>\n",
       "      <td>80</td>\n",
       "      <td>1</td>\n",
       "      <td>1</td>\n",
       "      <td>1</td>\n",
       "      <td>1</td>\n",
       "      <td>1</td>\n",
       "      <td>0</td>\n",
       "      <td>(18.0, 40.0]</td>\n",
       "      <td>(150.0, 200.0]</td>\n",
       "      <td>31.221304</td>\n",
       "      <td>(30.0, 300.0]</td>\n",
       "    </tr>\n",
       "    <tr>\n",
       "      <th>4</th>\n",
       "      <td>992</td>\n",
       "      <td>64.090411</td>\n",
       "      <td>1</td>\n",
       "      <td>155</td>\n",
       "      <td>62.0</td>\n",
       "      <td>120</td>\n",
       "      <td>80</td>\n",
       "      <td>1</td>\n",
       "      <td>1</td>\n",
       "      <td>0</td>\n",
       "      <td>0</td>\n",
       "      <td>1</td>\n",
       "      <td>0</td>\n",
       "      <td>(40.0, 65.0]</td>\n",
       "      <td>(150.0, 200.0]</td>\n",
       "      <td>25.806452</td>\n",
       "      <td>(25.0, 30.0]</td>\n",
       "    </tr>\n",
       "  </tbody>\n",
       "</table>\n",
       "</div>"
      ],
      "text/plain": [
       "    id        age  gender  height  weight  ap_hi  ap_lo  cholesterol  gluc  \\\n",
       "0  988  61.558904       1     155    69.0    130     80            2     2   \n",
       "1  989  40.131507       1     163    71.0    110     70            1     1   \n",
       "2  990  60.002740       1     165    70.0    120     80            1     1   \n",
       "3  991  39.860274       2     165    85.0    120     80            1     1   \n",
       "4  992  64.090411       1     155    62.0    120     80            1     1   \n",
       "\n",
       "   smoke  alco  active  cardio     age range    height range        bmi  \\\n",
       "0      0     0       1       0  (40.0, 65.0]  (150.0, 200.0]  28.720083   \n",
       "1      0     0       1       1  (40.0, 65.0]  (150.0, 200.0]  26.722873   \n",
       "2      0     0       1       0  (40.0, 65.0]  (150.0, 200.0]  25.711662   \n",
       "3      1     1       1       0  (18.0, 40.0]  (150.0, 200.0]  31.221304   \n",
       "4      0     0       1       0  (40.0, 65.0]  (150.0, 200.0]  25.806452   \n",
       "\n",
       "       bmi range  \n",
       "0   (25.0, 30.0]  \n",
       "1   (25.0, 30.0]  \n",
       "2   (25.0, 30.0]  \n",
       "3  (30.0, 300.0]  \n",
       "4   (25.0, 30.0]  "
      ]
     },
     "execution_count": 118,
     "metadata": {},
     "output_type": "execute_result"
    }
   ],
   "source": [
    "df['bmi range'] = pd.cut(df.bmi, [0, 18, 25, 30, 300], include_lowest=True)\n",
    "df.head()"
   ]
  },
  {
   "cell_type": "code",
   "execution_count": 119,
   "metadata": {},
   "outputs": [
    {
     "data": {
      "text/plain": [
       "<seaborn.axisgrid.FacetGrid at 0x28d055b1908>"
      ]
     },
     "execution_count": 119,
     "metadata": {},
     "output_type": "execute_result"
    },
    {
     "data": {
      "image/png": "[encoded data removed]",
      "text/plain": [
       "<Figure size 405.725x360 with 1 Axes>"
      ]
     },
     "metadata": {
      "needs_background": "light"
     },
     "output_type": "display_data"
    }
   ],
   "source": [
    "sns.catplot(x=\"bmi range\", y=\"cardio\", hue=\"gender\", kind=\"bar\", data=df, ci=None)"
   ]
  },
  {
   "cell_type": "markdown",
   "metadata": {},
   "source": [
    "Even over here we can see that Females are more prone. BMI over 30 needs to be analyzed seperately"
   ]
  },
  {
   "cell_type": "code",
   "execution_count": 120,
   "metadata": {},
   "outputs": [
    {
     "data": {
      "text/plain": [
       "Text(0.5, 1.0, 'bmi Distribution')"
      ]
     },
     "execution_count": 120,
     "metadata": {},
     "output_type": "execute_result"
    },
    {
     "data": {
      "image/png": "[encoded data removed]",
      "text/plain": [
       "<Figure size 1080x432 with 3 Axes>"
      ]
     },
     "metadata": {
      "needs_background": "light"
     },
     "output_type": "display_data"
    }
   ],
   "source": [
    "# Plot the distribution of these variables?\n",
    "\n",
    "# Set up the matplotlib figure\n",
    "f, axes = plt.subplots(ncols=3, figsize=(15, 6))\n",
    "\n",
    "# ap_hi\n",
    "sns.distplot(df.ap_hi, kde=False, color=\"g\", ax=axes[0]).set_title('ap_hi Distribution')\n",
    "axes[0].set_ylabel('Frequency')\n",
    "\n",
    "# ap_lo\n",
    "sns.distplot(df.ap_lo, kde=False, color=\"r\", ax=axes[1]).set_title('ap_lo Distribution')\n",
    "\n",
    "\n",
    "# bmi\n",
    "sns.distplot(df.bmi, kde=False, color=\"b\", ax=axes[2]).set_title('bmi Distribution')"
   ]
  },
  {
   "cell_type": "markdown",
   "metadata": {},
   "source": [
    "**Analyze outliers in each of these cases**"
   ]
  },
  {
   "cell_type": "code",
   "execution_count": 121,
   "metadata": {},
   "outputs": [
    {
     "data": {
      "text/html": [
       "<div>\n",
       "<style scoped>\n",
       "    .dataframe tbody tr th:only-of-type {\n",
       "        vertical-align: middle;\n",
       "    }\n",
       "\n",
       "    .dataframe tbody tr th {\n",
       "        vertical-align: top;\n",
       "    }\n",
       "\n",
       "    .dataframe thead th {\n",
       "        text-align: right;\n",
       "    }\n",
       "</style>\n",
       "<table border=\"1\" class=\"dataframe\">\n",
       "  <thead>\n",
       "    <tr style=\"text-align: right;\">\n",
       "      <th></th>\n",
       "      <th>id</th>\n",
       "      <th>age</th>\n",
       "      <th>gender</th>\n",
       "      <th>height</th>\n",
       "      <th>weight</th>\n",
       "      <th>ap_hi</th>\n",
       "      <th>ap_lo</th>\n",
       "      <th>cholesterol</th>\n",
       "      <th>gluc</th>\n",
       "      <th>smoke</th>\n",
       "      <th>alco</th>\n",
       "      <th>active</th>\n",
       "      <th>cardio</th>\n",
       "      <th>age range</th>\n",
       "      <th>height range</th>\n",
       "      <th>bmi</th>\n",
       "      <th>bmi range</th>\n",
       "    </tr>\n",
       "  </thead>\n",
       "  <tbody>\n",
       "    <tr>\n",
       "      <th>87</th>\n",
       "      <td>1098</td>\n",
       "      <td>51.906849</td>\n",
       "      <td>1</td>\n",
       "      <td>152</td>\n",
       "      <td>124.0</td>\n",
       "      <td>120</td>\n",
       "      <td>80</td>\n",
       "      <td>2</td>\n",
       "      <td>2</td>\n",
       "      <td>0</td>\n",
       "      <td>0</td>\n",
       "      <td>1</td>\n",
       "      <td>1</td>\n",
       "      <td>(40.0, 65.0]</td>\n",
       "      <td>(150.0, 200.0]</td>\n",
       "      <td>53.670360</td>\n",
       "      <td>(30.0, 300.0]</td>\n",
       "    </tr>\n",
       "    <tr>\n",
       "      <th>257</th>\n",
       "      <td>1330</td>\n",
       "      <td>52.273973</td>\n",
       "      <td>1</td>\n",
       "      <td>156</td>\n",
       "      <td>123.0</td>\n",
       "      <td>150</td>\n",
       "      <td>90</td>\n",
       "      <td>1</td>\n",
       "      <td>1</td>\n",
       "      <td>0</td>\n",
       "      <td>0</td>\n",
       "      <td>0</td>\n",
       "      <td>1</td>\n",
       "      <td>(40.0, 65.0]</td>\n",
       "      <td>(150.0, 200.0]</td>\n",
       "      <td>50.542406</td>\n",
       "      <td>(30.0, 300.0]</td>\n",
       "    </tr>\n",
       "    <tr>\n",
       "      <th>899</th>\n",
       "      <td>2258</td>\n",
       "      <td>44.134247</td>\n",
       "      <td>1</td>\n",
       "      <td>160</td>\n",
       "      <td>150.0</td>\n",
       "      <td>120</td>\n",
       "      <td>80</td>\n",
       "      <td>2</td>\n",
       "      <td>1</td>\n",
       "      <td>0</td>\n",
       "      <td>0</td>\n",
       "      <td>1</td>\n",
       "      <td>1</td>\n",
       "      <td>(40.0, 65.0]</td>\n",
       "      <td>(150.0, 200.0]</td>\n",
       "      <td>58.593750</td>\n",
       "      <td>(30.0, 300.0]</td>\n",
       "    </tr>\n",
       "    <tr>\n",
       "      <th>1638</th>\n",
       "      <td>3295</td>\n",
       "      <td>60.378082</td>\n",
       "      <td>1</td>\n",
       "      <td>164</td>\n",
       "      <td>141.0</td>\n",
       "      <td>120</td>\n",
       "      <td>80</td>\n",
       "      <td>1</td>\n",
       "      <td>1</td>\n",
       "      <td>0</td>\n",
       "      <td>0</td>\n",
       "      <td>1</td>\n",
       "      <td>0</td>\n",
       "      <td>(40.0, 65.0]</td>\n",
       "      <td>(150.0, 200.0]</td>\n",
       "      <td>52.424152</td>\n",
       "      <td>(30.0, 300.0]</td>\n",
       "    </tr>\n",
       "    <tr>\n",
       "      <th>1641</th>\n",
       "      <td>3298</td>\n",
       "      <td>57.501370</td>\n",
       "      <td>1</td>\n",
       "      <td>160</td>\n",
       "      <td>150.0</td>\n",
       "      <td>160</td>\n",
       "      <td>75</td>\n",
       "      <td>1</td>\n",
       "      <td>1</td>\n",
       "      <td>0</td>\n",
       "      <td>0</td>\n",
       "      <td>1</td>\n",
       "      <td>1</td>\n",
       "      <td>(40.0, 65.0]</td>\n",
       "      <td>(150.0, 200.0]</td>\n",
       "      <td>58.593750</td>\n",
       "      <td>(30.0, 300.0]</td>\n",
       "    </tr>\n",
       "    <tr>\n",
       "      <th>...</th>\n",
       "      <td>...</td>\n",
       "      <td>...</td>\n",
       "      <td>...</td>\n",
       "      <td>...</td>\n",
       "      <td>...</td>\n",
       "      <td>...</td>\n",
       "      <td>...</td>\n",
       "      <td>...</td>\n",
       "      <td>...</td>\n",
       "      <td>...</td>\n",
       "      <td>...</td>\n",
       "      <td>...</td>\n",
       "      <td>...</td>\n",
       "      <td>...</td>\n",
       "      <td>...</td>\n",
       "      <td>...</td>\n",
       "      <td>...</td>\n",
       "    </tr>\n",
       "    <tr>\n",
       "      <th>68136</th>\n",
       "      <td>98348</td>\n",
       "      <td>61.915068</td>\n",
       "      <td>1</td>\n",
       "      <td>154</td>\n",
       "      <td>125.0</td>\n",
       "      <td>140</td>\n",
       "      <td>80</td>\n",
       "      <td>3</td>\n",
       "      <td>3</td>\n",
       "      <td>0</td>\n",
       "      <td>0</td>\n",
       "      <td>1</td>\n",
       "      <td>0</td>\n",
       "      <td>(40.0, 65.0]</td>\n",
       "      <td>(150.0, 200.0]</td>\n",
       "      <td>52.707033</td>\n",
       "      <td>(30.0, 300.0]</td>\n",
       "    </tr>\n",
       "    <tr>\n",
       "      <th>68353</th>\n",
       "      <td>98630</td>\n",
       "      <td>55.893151</td>\n",
       "      <td>2</td>\n",
       "      <td>120</td>\n",
       "      <td>80.0</td>\n",
       "      <td>140</td>\n",
       "      <td>90</td>\n",
       "      <td>1</td>\n",
       "      <td>2</td>\n",
       "      <td>0</td>\n",
       "      <td>0</td>\n",
       "      <td>1</td>\n",
       "      <td>1</td>\n",
       "      <td>(40.0, 65.0]</td>\n",
       "      <td>(100.0, 150.0]</td>\n",
       "      <td>55.555556</td>\n",
       "      <td>(30.0, 300.0]</td>\n",
       "    </tr>\n",
       "    <tr>\n",
       "      <th>68410</th>\n",
       "      <td>98709</td>\n",
       "      <td>52.265753</td>\n",
       "      <td>2</td>\n",
       "      <td>175</td>\n",
       "      <td>155.0</td>\n",
       "      <td>110</td>\n",
       "      <td>100</td>\n",
       "      <td>1</td>\n",
       "      <td>1</td>\n",
       "      <td>0</td>\n",
       "      <td>0</td>\n",
       "      <td>1</td>\n",
       "      <td>1</td>\n",
       "      <td>(40.0, 65.0]</td>\n",
       "      <td>(150.0, 200.0]</td>\n",
       "      <td>50.612245</td>\n",
       "      <td>(30.0, 300.0]</td>\n",
       "    </tr>\n",
       "    <tr>\n",
       "      <th>69009</th>\n",
       "      <td>99562</td>\n",
       "      <td>58.512329</td>\n",
       "      <td>1</td>\n",
       "      <td>144</td>\n",
       "      <td>115.0</td>\n",
       "      <td>140</td>\n",
       "      <td>90</td>\n",
       "      <td>1</td>\n",
       "      <td>1</td>\n",
       "      <td>0</td>\n",
       "      <td>1</td>\n",
       "      <td>0</td>\n",
       "      <td>1</td>\n",
       "      <td>(40.0, 65.0]</td>\n",
       "      <td>(100.0, 150.0]</td>\n",
       "      <td>55.459105</td>\n",
       "      <td>(30.0, 300.0]</td>\n",
       "    </tr>\n",
       "    <tr>\n",
       "      <th>69297</th>\n",
       "      <td>99995</td>\n",
       "      <td>61.920548</td>\n",
       "      <td>1</td>\n",
       "      <td>158</td>\n",
       "      <td>126.0</td>\n",
       "      <td>140</td>\n",
       "      <td>90</td>\n",
       "      <td>2</td>\n",
       "      <td>2</td>\n",
       "      <td>0</td>\n",
       "      <td>0</td>\n",
       "      <td>1</td>\n",
       "      <td>1</td>\n",
       "      <td>(40.0, 65.0]</td>\n",
       "      <td>(150.0, 200.0]</td>\n",
       "      <td>50.472681</td>\n",
       "      <td>(30.0, 300.0]</td>\n",
       "    </tr>\n",
       "  </tbody>\n",
       "</table>\n",
       "<p>238 rows × 17 columns</p>\n",
       "</div>"
      ],
      "text/plain": [
       "          id        age  gender  height  weight  ap_hi  ap_lo  cholesterol  \\\n",
       "87      1098  51.906849       1     152   124.0    120     80            2   \n",
       "257     1330  52.273973       1     156   123.0    150     90            1   \n",
       "899     2258  44.134247       1     160   150.0    120     80            2   \n",
       "1638    3295  60.378082       1     164   141.0    120     80            1   \n",
       "1641    3298  57.501370       1     160   150.0    160     75            1   \n",
       "...      ...        ...     ...     ...     ...    ...    ...          ...   \n",
       "68136  98348  61.915068       1     154   125.0    140     80            3   \n",
       "68353  98630  55.893151       2     120    80.0    140     90            1   \n",
       "68410  98709  52.265753       2     175   155.0    110    100            1   \n",
       "69009  99562  58.512329       1     144   115.0    140     90            1   \n",
       "69297  99995  61.920548       1     158   126.0    140     90            2   \n",
       "\n",
       "       gluc  smoke  alco  active  cardio     age range    height range  \\\n",
       "87        2      0     0       1       1  (40.0, 65.0]  (150.0, 200.0]   \n",
       "257       1      0     0       0       1  (40.0, 65.0]  (150.0, 200.0]   \n",
       "899       1      0     0       1       1  (40.0, 65.0]  (150.0, 200.0]   \n",
       "1638      1      0     0       1       0  (40.0, 65.0]  (150.0, 200.0]   \n",
       "1641      1      0     0       1       1  (40.0, 65.0]  (150.0, 200.0]   \n",
       "...     ...    ...   ...     ...     ...           ...             ...   \n",
       "68136     3      0     0       1       0  (40.0, 65.0]  (150.0, 200.0]   \n",
       "68353     2      0     0       1       1  (40.0, 65.0]  (100.0, 150.0]   \n",
       "68410     1      0     0       1       1  (40.0, 65.0]  (150.0, 200.0]   \n",
       "69009     1      0     1       0       1  (40.0, 65.0]  (100.0, 150.0]   \n",
       "69297     2      0     0       1       1  (40.0, 65.0]  (150.0, 200.0]   \n",
       "\n",
       "             bmi      bmi range  \n",
       "87     53.670360  (30.0, 300.0]  \n",
       "257    50.542406  (30.0, 300.0]  \n",
       "899    58.593750  (30.0, 300.0]  \n",
       "1638   52.424152  (30.0, 300.0]  \n",
       "1641   58.593750  (30.0, 300.0]  \n",
       "...          ...            ...  \n",
       "68136  52.707033  (30.0, 300.0]  \n",
       "68353  55.555556  (30.0, 300.0]  \n",
       "68410  50.612245  (30.0, 300.0]  \n",
       "69009  55.459105  (30.0, 300.0]  \n",
       "69297  50.472681  (30.0, 300.0]  \n",
       "\n",
       "[238 rows x 17 columns]"
      ]
     },
     "execution_count": 121,
     "metadata": {},
     "output_type": "execute_result"
    }
   ],
   "source": [
    "df[df['bmi']>50]"
   ]
  },
  {
   "cell_type": "markdown",
   "metadata": {},
   "source": [
    "There are cases where height is less than 100 but weight is more than 100"
   ]
  },
  {
   "cell_type": "markdown",
   "metadata": {},
   "source": [
    "**Check how Removing outliers changes the distribution**"
   ]
  },
  {
   "cell_type": "code",
   "execution_count": 122,
   "metadata": {},
   "outputs": [
    {
     "data": {
      "text/plain": [
       "(65833, 17)"
      ]
     },
     "execution_count": 122,
     "metadata": {},
     "output_type": "execute_result"
    }
   ],
   "source": [
    "trimmed_df = df[df['bmi'] < df['bmi'].quantile(0.95)]\n",
    "trimmed_df.shape"
   ]
  },
  {
   "cell_type": "code",
   "execution_count": 123,
   "metadata": {},
   "outputs": [
    {
     "data": {
      "text/plain": [
       "Text(0.5, 1.0, 'ap_lo Distribution')"
      ]
     },
     "execution_count": 123,
     "metadata": {},
     "output_type": "execute_result"
    },
    {
     "data": {
      "image/png": "[encoded data removed]",
      "text/plain": [
       "<Figure size 1080x432 with 2 Axes>"
      ]
     },
     "metadata": {
      "needs_background": "light"
     },
     "output_type": "display_data"
    }
   ],
   "source": [
    "# Plot the distribution of these variables?\n",
    "\n",
    "# Set up the matplotlib figure\n",
    "f, axes = plt.subplots(ncols=2, figsize=(15, 6))\n",
    "\n",
    "# ap_hi\n",
    "sns.distplot(trimmed_df.ap_hi, kde=False, color=\"g\", ax=axes[0]).set_title('ap_hi Distribution')\n",
    "axes[0].set_ylabel('Frequency')\n",
    "\n",
    "# ap_lo\n",
    "sns.distplot(trimmed_df.ap_lo, kde=False, color=\"r\", ax=axes[1]).set_title('ap_lo Distribution')"
   ]
  },
  {
   "cell_type": "code",
   "execution_count": 124,
   "metadata": {},
   "outputs": [
    {
     "data": {
      "text/plain": [
       "(61526, 17)"
      ]
     },
     "execution_count": 124,
     "metadata": {},
     "output_type": "execute_result"
    }
   ],
   "source": [
    "trimmed_df = trimmed_df[trimmed_df['ap_hi'] < trimmed_df['ap_hi'].quantile(0.95)]\n",
    "trimmed_df.shape"
   ]
  },
  {
   "cell_type": "code",
   "execution_count": 125,
   "metadata": {},
   "outputs": [
    {
     "data": {
      "text/plain": [
       "Text(0.5, 1.0, 'ap_lo Distribution')"
      ]
     },
     "execution_count": 125,
     "metadata": {},
     "output_type": "execute_result"
    },
    {
     "data": {
      "image/png": "[encoded data removed]",
      "text/plain": [
       "<Figure size 1080x432 with 2 Axes>"
      ]
     },
     "metadata": {
      "needs_background": "light"
     },
     "output_type": "display_data"
    }
   ],
   "source": [
    "# Plot the distribution of these variables?\n",
    "\n",
    "# Set up the matplotlib figure\n",
    "f, axes = plt.subplots(ncols=2, figsize=(15, 6))\n",
    "\n",
    "# ap_hi\n",
    "sns.distplot(trimmed_df.ap_hi, kde=False, color=\"g\", ax=axes[0]).set_title('ap_hi Distribution')\n",
    "axes[0].set_ylabel('Frequency')\n",
    "\n",
    "# ap_lo\n",
    "sns.distplot(trimmed_df.ap_lo, kde=False, color=\"r\", ax=axes[1]).set_title('ap_lo Distribution')"
   ]
  },
  {
   "cell_type": "code",
   "execution_count": 126,
   "metadata": {},
   "outputs": [
    {
     "data": {
      "text/html": [
       "<div>\n",
       "<style scoped>\n",
       "    .dataframe tbody tr th:only-of-type {\n",
       "        vertical-align: middle;\n",
       "    }\n",
       "\n",
       "    .dataframe tbody tr th {\n",
       "        vertical-align: top;\n",
       "    }\n",
       "\n",
       "    .dataframe thead th {\n",
       "        text-align: right;\n",
       "    }\n",
       "</style>\n",
       "<table border=\"1\" class=\"dataframe\">\n",
       "  <thead>\n",
       "    <tr style=\"text-align: right;\">\n",
       "      <th></th>\n",
       "      <th>id</th>\n",
       "      <th>age</th>\n",
       "      <th>gender</th>\n",
       "      <th>height</th>\n",
       "      <th>weight</th>\n",
       "      <th>ap_hi</th>\n",
       "      <th>ap_lo</th>\n",
       "      <th>cholesterol</th>\n",
       "      <th>gluc</th>\n",
       "      <th>smoke</th>\n",
       "      <th>alco</th>\n",
       "      <th>active</th>\n",
       "      <th>cardio</th>\n",
       "      <th>age range</th>\n",
       "      <th>height range</th>\n",
       "      <th>bmi</th>\n",
       "      <th>bmi range</th>\n",
       "    </tr>\n",
       "  </thead>\n",
       "  <tbody>\n",
       "    <tr>\n",
       "      <th>3908</th>\n",
       "      <td>6525</td>\n",
       "      <td>41.865753</td>\n",
       "      <td>1</td>\n",
       "      <td>165</td>\n",
       "      <td>78.0</td>\n",
       "      <td>-100</td>\n",
       "      <td>80</td>\n",
       "      <td>2</td>\n",
       "      <td>1</td>\n",
       "      <td>0</td>\n",
       "      <td>0</td>\n",
       "      <td>1</td>\n",
       "      <td>0</td>\n",
       "      <td>(40.0, 65.0]</td>\n",
       "      <td>(150.0, 200.0]</td>\n",
       "      <td>28.650138</td>\n",
       "      <td>(25.0, 30.0]</td>\n",
       "    </tr>\n",
       "    <tr>\n",
       "      <th>15322</th>\n",
       "      <td>22881</td>\n",
       "      <td>60.569863</td>\n",
       "      <td>2</td>\n",
       "      <td>161</td>\n",
       "      <td>90.0</td>\n",
       "      <td>-115</td>\n",
       "      <td>70</td>\n",
       "      <td>1</td>\n",
       "      <td>1</td>\n",
       "      <td>0</td>\n",
       "      <td>0</td>\n",
       "      <td>1</td>\n",
       "      <td>0</td>\n",
       "      <td>(40.0, 65.0]</td>\n",
       "      <td>(150.0, 200.0]</td>\n",
       "      <td>34.720883</td>\n",
       "      <td>(30.0, 300.0]</td>\n",
       "    </tr>\n",
       "    <tr>\n",
       "      <th>19837</th>\n",
       "      <td>29313</td>\n",
       "      <td>42.687671</td>\n",
       "      <td>1</td>\n",
       "      <td>153</td>\n",
       "      <td>54.0</td>\n",
       "      <td>-100</td>\n",
       "      <td>70</td>\n",
       "      <td>1</td>\n",
       "      <td>1</td>\n",
       "      <td>0</td>\n",
       "      <td>0</td>\n",
       "      <td>1</td>\n",
       "      <td>0</td>\n",
       "      <td>(40.0, 65.0]</td>\n",
       "      <td>(150.0, 200.0]</td>\n",
       "      <td>23.068051</td>\n",
       "      <td>(18.0, 25.0]</td>\n",
       "    </tr>\n",
       "    <tr>\n",
       "      <th>23289</th>\n",
       "      <td>34295</td>\n",
       "      <td>50.139726</td>\n",
       "      <td>1</td>\n",
       "      <td>162</td>\n",
       "      <td>74.0</td>\n",
       "      <td>-140</td>\n",
       "      <td>90</td>\n",
       "      <td>1</td>\n",
       "      <td>1</td>\n",
       "      <td>0</td>\n",
       "      <td>0</td>\n",
       "      <td>1</td>\n",
       "      <td>1</td>\n",
       "      <td>(40.0, 65.0]</td>\n",
       "      <td>(150.0, 200.0]</td>\n",
       "      <td>28.196921</td>\n",
       "      <td>(25.0, 30.0]</td>\n",
       "    </tr>\n",
       "    <tr>\n",
       "      <th>24541</th>\n",
       "      <td>36025</td>\n",
       "      <td>40.304110</td>\n",
       "      <td>2</td>\n",
       "      <td>168</td>\n",
       "      <td>50.0</td>\n",
       "      <td>-120</td>\n",
       "      <td>80</td>\n",
       "      <td>2</td>\n",
       "      <td>1</td>\n",
       "      <td>0</td>\n",
       "      <td>0</td>\n",
       "      <td>0</td>\n",
       "      <td>1</td>\n",
       "      <td>(40.0, 65.0]</td>\n",
       "      <td>(150.0, 200.0]</td>\n",
       "      <td>17.715420</td>\n",
       "      <td>(-0.001, 18.0]</td>\n",
       "    </tr>\n",
       "    <tr>\n",
       "      <th>34341</th>\n",
       "      <td>50055</td>\n",
       "      <td>63.904110</td>\n",
       "      <td>2</td>\n",
       "      <td>168</td>\n",
       "      <td>59.0</td>\n",
       "      <td>-150</td>\n",
       "      <td>80</td>\n",
       "      <td>1</td>\n",
       "      <td>1</td>\n",
       "      <td>0</td>\n",
       "      <td>0</td>\n",
       "      <td>1</td>\n",
       "      <td>1</td>\n",
       "      <td>(40.0, 65.0]</td>\n",
       "      <td>(150.0, 200.0]</td>\n",
       "      <td>20.904195</td>\n",
       "      <td>(18.0, 25.0]</td>\n",
       "    </tr>\n",
       "    <tr>\n",
       "      <th>45928</th>\n",
       "      <td>66571</td>\n",
       "      <td>64.783562</td>\n",
       "      <td>2</td>\n",
       "      <td>160</td>\n",
       "      <td>59.0</td>\n",
       "      <td>-120</td>\n",
       "      <td>80</td>\n",
       "      <td>1</td>\n",
       "      <td>1</td>\n",
       "      <td>0</td>\n",
       "      <td>0</td>\n",
       "      <td>0</td>\n",
       "      <td>0</td>\n",
       "      <td>(40.0, 65.0]</td>\n",
       "      <td>(150.0, 200.0]</td>\n",
       "      <td>23.046875</td>\n",
       "      <td>(18.0, 25.0]</td>\n",
       "    </tr>\n",
       "  </tbody>\n",
       "</table>\n",
       "</div>"
      ],
      "text/plain": [
       "          id        age  gender  height  weight  ap_hi  ap_lo  cholesterol  \\\n",
       "3908    6525  41.865753       1     165    78.0   -100     80            2   \n",
       "15322  22881  60.569863       2     161    90.0   -115     70            1   \n",
       "19837  29313  42.687671       1     153    54.0   -100     70            1   \n",
       "23289  34295  50.139726       1     162    74.0   -140     90            1   \n",
       "24541  36025  40.304110       2     168    50.0   -120     80            2   \n",
       "34341  50055  63.904110       2     168    59.0   -150     80            1   \n",
       "45928  66571  64.783562       2     160    59.0   -120     80            1   \n",
       "\n",
       "       gluc  smoke  alco  active  cardio     age range    height range  \\\n",
       "3908      1      0     0       1       0  (40.0, 65.0]  (150.0, 200.0]   \n",
       "15322     1      0     0       1       0  (40.0, 65.0]  (150.0, 200.0]   \n",
       "19837     1      0     0       1       0  (40.0, 65.0]  (150.0, 200.0]   \n",
       "23289     1      0     0       1       1  (40.0, 65.0]  (150.0, 200.0]   \n",
       "24541     1      0     0       0       1  (40.0, 65.0]  (150.0, 200.0]   \n",
       "34341     1      0     0       1       1  (40.0, 65.0]  (150.0, 200.0]   \n",
       "45928     1      0     0       0       0  (40.0, 65.0]  (150.0, 200.0]   \n",
       "\n",
       "             bmi       bmi range  \n",
       "3908   28.650138    (25.0, 30.0]  \n",
       "15322  34.720883   (30.0, 300.0]  \n",
       "19837  23.068051    (18.0, 25.0]  \n",
       "23289  28.196921    (25.0, 30.0]  \n",
       "24541  17.715420  (-0.001, 18.0]  \n",
       "34341  20.904195    (18.0, 25.0]  \n",
       "45928  23.046875    (18.0, 25.0]  "
      ]
     },
     "execution_count": 126,
     "metadata": {},
     "output_type": "execute_result"
    }
   ],
   "source": [
    "df[df['ap_hi']<0]"
   ]
  },
  {
   "cell_type": "code",
   "execution_count": 127,
   "metadata": {},
   "outputs": [
    {
     "data": {
      "text/plain": [
       "(46763, 17)"
      ]
     },
     "execution_count": 127,
     "metadata": {},
     "output_type": "execute_result"
    }
   ],
   "source": [
    "trimmed_df = trimmed_df[trimmed_df['ap_lo'] < trimmed_df['ap_lo'].quantile(0.95)]\n",
    "trimmed_df.shape"
   ]
  },
  {
   "cell_type": "code",
   "execution_count": 128,
   "metadata": {},
   "outputs": [
    {
     "data": {
      "text/plain": [
       "Text(0.5, 1.0, 'ap_lo Distribution')"
      ]
     },
     "execution_count": 128,
     "metadata": {},
     "output_type": "execute_result"
    },
    {
     "data": {
      "image/png": "[encoded data removed]",
      "text/plain": [
       "<Figure size 1080x432 with 2 Axes>"
      ]
     },
     "metadata": {
      "needs_background": "light"
     },
     "output_type": "display_data"
    }
   ],
   "source": [
    "# Plot the distribution of these variables?\n",
    "\n",
    "# Set up the matplotlib figure\n",
    "f, axes = plt.subplots(ncols=2, figsize=(15, 6))\n",
    "\n",
    "# ap_hi\n",
    "sns.distplot(trimmed_df.ap_hi, kde=False, color=\"g\", ax=axes[0]).set_title('ap_hi Distribution')\n",
    "axes[0].set_ylabel('Frequency')\n",
    "\n",
    "# ap_lo\n",
    "sns.distplot(trimmed_df.ap_lo, kde=False, color=\"r\", ax=axes[1]).set_title('ap_lo Distribution')"
   ]
  },
  {
   "cell_type": "markdown",
   "metadata": {},
   "source": [
    "WHen checked on the internet negative values are possible. Since tree models are good at handling outliers we don't need to worry about other skewness but need to remove correlated features"
   ]
  },
  {
   "cell_type": "markdown",
   "metadata": {},
   "source": [
    "Removing extreme values since previous model was overfitting"
   ]
  },
  {
   "cell_type": "code",
   "execution_count": 129,
   "metadata": {},
   "outputs": [],
   "source": [
    "trimmed_df=df[df['ap_lo']<1500]\n",
    "trimmed_df=trimmed_df[trimmed_df['ap_hi']<1000]"
   ]
  },
  {
   "cell_type": "code",
   "execution_count": 130,
   "metadata": {},
   "outputs": [
    {
     "data": {
      "text/plain": [
       "Text(0.5, 1.0, 'ap_lo Distribution')"
      ]
     },
     "execution_count": 130,
     "metadata": {},
     "output_type": "execute_result"
    },
    {
     "data": {
      "image/png": "[encoded data removed]",
      "text/plain": [
       "<Figure size 1080x432 with 2 Axes>"
      ]
     },
     "metadata": {
      "needs_background": "light"
     },
     "output_type": "display_data"
    }
   ],
   "source": [
    "# Plot the distribution of these variables?\n",
    "\n",
    "# Set up the matplotlib figure\n",
    "f, axes = plt.subplots(ncols=2, figsize=(15, 6))\n",
    "\n",
    "# ap_hi\n",
    "sns.distplot(trimmed_df.ap_hi, kde=False, color=\"g\", ax=axes[0]).set_title('ap_hi Distribution')\n",
    "axes[0].set_ylabel('Frequency')\n",
    "\n",
    "# ap_lo\n",
    "sns.distplot(trimmed_df.ap_lo, kde=False, color=\"r\", ax=axes[1]).set_title('ap_lo Distribution')"
   ]
  },
  {
   "cell_type": "code",
   "execution_count": 131,
   "metadata": {},
   "outputs": [
    {
     "data": {
      "text/html": [
       "<div>\n",
       "<style scoped>\n",
       "    .dataframe tbody tr th:only-of-type {\n",
       "        vertical-align: middle;\n",
       "    }\n",
       "\n",
       "    .dataframe tbody tr th {\n",
       "        vertical-align: top;\n",
       "    }\n",
       "\n",
       "    .dataframe thead th {\n",
       "        text-align: right;\n",
       "    }\n",
       "</style>\n",
       "<table border=\"1\" class=\"dataframe\">\n",
       "  <thead>\n",
       "    <tr style=\"text-align: right;\">\n",
       "      <th></th>\n",
       "      <th>id</th>\n",
       "      <th>age</th>\n",
       "      <th>gender</th>\n",
       "      <th>height</th>\n",
       "      <th>weight</th>\n",
       "      <th>ap_hi</th>\n",
       "      <th>ap_lo</th>\n",
       "      <th>cholesterol</th>\n",
       "      <th>gluc</th>\n",
       "      <th>smoke</th>\n",
       "      <th>alco</th>\n",
       "      <th>active</th>\n",
       "      <th>cardio</th>\n",
       "      <th>age range</th>\n",
       "      <th>height range</th>\n",
       "      <th>bmi</th>\n",
       "      <th>bmi range</th>\n",
       "    </tr>\n",
       "  </thead>\n",
       "  <tbody>\n",
       "    <tr>\n",
       "      <th>6766</th>\n",
       "      <td>10644</td>\n",
       "      <td>62.134247</td>\n",
       "      <td>1</td>\n",
       "      <td>154</td>\n",
       "      <td>84.0</td>\n",
       "      <td>140</td>\n",
       "      <td>902</td>\n",
       "      <td>1</td>\n",
       "      <td>1</td>\n",
       "      <td>0</td>\n",
       "      <td>0</td>\n",
       "      <td>1</td>\n",
       "      <td>0</td>\n",
       "      <td>(40.0, 65.0]</td>\n",
       "      <td>(150.0, 200.0]</td>\n",
       "      <td>35.419126</td>\n",
       "      <td>(30.0, 300.0]</td>\n",
       "    </tr>\n",
       "    <tr>\n",
       "      <th>8156</th>\n",
       "      <td>12626</td>\n",
       "      <td>39.197260</td>\n",
       "      <td>1</td>\n",
       "      <td>165</td>\n",
       "      <td>65.0</td>\n",
       "      <td>120</td>\n",
       "      <td>802</td>\n",
       "      <td>1</td>\n",
       "      <td>1</td>\n",
       "      <td>0</td>\n",
       "      <td>0</td>\n",
       "      <td>0</td>\n",
       "      <td>1</td>\n",
       "      <td>(18.0, 40.0]</td>\n",
       "      <td>(150.0, 200.0]</td>\n",
       "      <td>23.875115</td>\n",
       "      <td>(18.0, 25.0]</td>\n",
       "    </tr>\n",
       "    <tr>\n",
       "      <th>9622</th>\n",
       "      <td>14728</td>\n",
       "      <td>55.410959</td>\n",
       "      <td>1</td>\n",
       "      <td>165</td>\n",
       "      <td>65.0</td>\n",
       "      <td>120</td>\n",
       "      <td>850</td>\n",
       "      <td>1</td>\n",
       "      <td>1</td>\n",
       "      <td>0</td>\n",
       "      <td>0</td>\n",
       "      <td>0</td>\n",
       "      <td>1</td>\n",
       "      <td>(40.0, 65.0]</td>\n",
       "      <td>(150.0, 200.0]</td>\n",
       "      <td>23.875115</td>\n",
       "      <td>(18.0, 25.0]</td>\n",
       "    </tr>\n",
       "    <tr>\n",
       "      <th>10158</th>\n",
       "      <td>15529</td>\n",
       "      <td>53.583562</td>\n",
       "      <td>1</td>\n",
       "      <td>164</td>\n",
       "      <td>85.0</td>\n",
       "      <td>160</td>\n",
       "      <td>708</td>\n",
       "      <td>1</td>\n",
       "      <td>1</td>\n",
       "      <td>0</td>\n",
       "      <td>0</td>\n",
       "      <td>1</td>\n",
       "      <td>0</td>\n",
       "      <td>(40.0, 65.0]</td>\n",
       "      <td>(150.0, 200.0]</td>\n",
       "      <td>31.603212</td>\n",
       "      <td>(30.0, 300.0]</td>\n",
       "    </tr>\n",
       "    <tr>\n",
       "      <th>14384</th>\n",
       "      <td>21573</td>\n",
       "      <td>50.493151</td>\n",
       "      <td>1</td>\n",
       "      <td>155</td>\n",
       "      <td>56.0</td>\n",
       "      <td>140</td>\n",
       "      <td>709</td>\n",
       "      <td>1</td>\n",
       "      <td>1</td>\n",
       "      <td>0</td>\n",
       "      <td>0</td>\n",
       "      <td>1</td>\n",
       "      <td>1</td>\n",
       "      <td>(40.0, 65.0]</td>\n",
       "      <td>(150.0, 200.0]</td>\n",
       "      <td>23.309053</td>\n",
       "      <td>(18.0, 25.0]</td>\n",
       "    </tr>\n",
       "    <tr>\n",
       "      <th>14866</th>\n",
       "      <td>22240</td>\n",
       "      <td>39.849315</td>\n",
       "      <td>2</td>\n",
       "      <td>176</td>\n",
       "      <td>67.0</td>\n",
       "      <td>130</td>\n",
       "      <td>708</td>\n",
       "      <td>1</td>\n",
       "      <td>2</td>\n",
       "      <td>1</td>\n",
       "      <td>1</td>\n",
       "      <td>1</td>\n",
       "      <td>0</td>\n",
       "      <td>(18.0, 40.0]</td>\n",
       "      <td>(150.0, 200.0]</td>\n",
       "      <td>21.629649</td>\n",
       "      <td>(18.0, 25.0]</td>\n",
       "    </tr>\n",
       "    <tr>\n",
       "      <th>15767</th>\n",
       "      <td>23523</td>\n",
       "      <td>56.446575</td>\n",
       "      <td>1</td>\n",
       "      <td>165</td>\n",
       "      <td>62.0</td>\n",
       "      <td>120</td>\n",
       "      <td>800</td>\n",
       "      <td>1</td>\n",
       "      <td>1</td>\n",
       "      <td>0</td>\n",
       "      <td>0</td>\n",
       "      <td>1</td>\n",
       "      <td>1</td>\n",
       "      <td>(40.0, 65.0]</td>\n",
       "      <td>(150.0, 200.0]</td>\n",
       "      <td>22.773186</td>\n",
       "      <td>(18.0, 25.0]</td>\n",
       "    </tr>\n",
       "    <tr>\n",
       "      <th>16674</th>\n",
       "      <td>24824</td>\n",
       "      <td>51.997260</td>\n",
       "      <td>1</td>\n",
       "      <td>157</td>\n",
       "      <td>69.0</td>\n",
       "      <td>112</td>\n",
       "      <td>800</td>\n",
       "      <td>1</td>\n",
       "      <td>1</td>\n",
       "      <td>0</td>\n",
       "      <td>0</td>\n",
       "      <td>1</td>\n",
       "      <td>1</td>\n",
       "      <td>(40.0, 65.0]</td>\n",
       "      <td>(150.0, 200.0]</td>\n",
       "      <td>27.993022</td>\n",
       "      <td>(25.0, 30.0]</td>\n",
       "    </tr>\n",
       "    <tr>\n",
       "      <th>19217</th>\n",
       "      <td>28435</td>\n",
       "      <td>62.041096</td>\n",
       "      <td>1</td>\n",
       "      <td>160</td>\n",
       "      <td>60.0</td>\n",
       "      <td>120</td>\n",
       "      <td>850</td>\n",
       "      <td>1</td>\n",
       "      <td>1</td>\n",
       "      <td>0</td>\n",
       "      <td>0</td>\n",
       "      <td>1</td>\n",
       "      <td>1</td>\n",
       "      <td>(40.0, 65.0]</td>\n",
       "      <td>(150.0, 200.0]</td>\n",
       "      <td>23.437500</td>\n",
       "      <td>(18.0, 25.0]</td>\n",
       "    </tr>\n",
       "    <tr>\n",
       "      <th>20550</th>\n",
       "      <td>30356</td>\n",
       "      <td>44.416438</td>\n",
       "      <td>1</td>\n",
       "      <td>173</td>\n",
       "      <td>78.0</td>\n",
       "      <td>110</td>\n",
       "      <td>710</td>\n",
       "      <td>1</td>\n",
       "      <td>1</td>\n",
       "      <td>0</td>\n",
       "      <td>0</td>\n",
       "      <td>1</td>\n",
       "      <td>0</td>\n",
       "      <td>(40.0, 65.0]</td>\n",
       "      <td>(150.0, 200.0]</td>\n",
       "      <td>26.061679</td>\n",
       "      <td>(25.0, 30.0]</td>\n",
       "    </tr>\n",
       "    <tr>\n",
       "      <th>21549</th>\n",
       "      <td>31790</td>\n",
       "      <td>49.389041</td>\n",
       "      <td>1</td>\n",
       "      <td>156</td>\n",
       "      <td>55.0</td>\n",
       "      <td>120</td>\n",
       "      <td>800</td>\n",
       "      <td>1</td>\n",
       "      <td>1</td>\n",
       "      <td>0</td>\n",
       "      <td>0</td>\n",
       "      <td>1</td>\n",
       "      <td>0</td>\n",
       "      <td>(40.0, 65.0]</td>\n",
       "      <td>(150.0, 200.0]</td>\n",
       "      <td>22.600263</td>\n",
       "      <td>(18.0, 25.0]</td>\n",
       "    </tr>\n",
       "    <tr>\n",
       "      <th>22065</th>\n",
       "      <td>32517</td>\n",
       "      <td>54.271233</td>\n",
       "      <td>1</td>\n",
       "      <td>162</td>\n",
       "      <td>63.0</td>\n",
       "      <td>150</td>\n",
       "      <td>800</td>\n",
       "      <td>1</td>\n",
       "      <td>1</td>\n",
       "      <td>0</td>\n",
       "      <td>0</td>\n",
       "      <td>1</td>\n",
       "      <td>1</td>\n",
       "      <td>(40.0, 65.0]</td>\n",
       "      <td>(150.0, 200.0]</td>\n",
       "      <td>24.005487</td>\n",
       "      <td>(18.0, 25.0]</td>\n",
       "    </tr>\n",
       "    <tr>\n",
       "      <th>25130</th>\n",
       "      <td>36862</td>\n",
       "      <td>59.745205</td>\n",
       "      <td>2</td>\n",
       "      <td>180</td>\n",
       "      <td>60.0</td>\n",
       "      <td>110</td>\n",
       "      <td>710</td>\n",
       "      <td>1</td>\n",
       "      <td>1</td>\n",
       "      <td>1</td>\n",
       "      <td>0</td>\n",
       "      <td>1</td>\n",
       "      <td>0</td>\n",
       "      <td>(40.0, 65.0]</td>\n",
       "      <td>(150.0, 200.0]</td>\n",
       "      <td>18.518519</td>\n",
       "      <td>(18.0, 25.0]</td>\n",
       "    </tr>\n",
       "    <tr>\n",
       "      <th>30703</th>\n",
       "      <td>44828</td>\n",
       "      <td>57.652055</td>\n",
       "      <td>2</td>\n",
       "      <td>164</td>\n",
       "      <td>68.0</td>\n",
       "      <td>130</td>\n",
       "      <td>809</td>\n",
       "      <td>3</td>\n",
       "      <td>3</td>\n",
       "      <td>0</td>\n",
       "      <td>0</td>\n",
       "      <td>1</td>\n",
       "      <td>0</td>\n",
       "      <td>(40.0, 65.0]</td>\n",
       "      <td>(150.0, 200.0]</td>\n",
       "      <td>25.282570</td>\n",
       "      <td>(25.0, 30.0]</td>\n",
       "    </tr>\n",
       "    <tr>\n",
       "      <th>31034</th>\n",
       "      <td>45318</td>\n",
       "      <td>51.665753</td>\n",
       "      <td>1</td>\n",
       "      <td>166</td>\n",
       "      <td>72.0</td>\n",
       "      <td>120</td>\n",
       "      <td>801</td>\n",
       "      <td>1</td>\n",
       "      <td>1</td>\n",
       "      <td>0</td>\n",
       "      <td>0</td>\n",
       "      <td>1</td>\n",
       "      <td>0</td>\n",
       "      <td>(40.0, 65.0]</td>\n",
       "      <td>(150.0, 200.0]</td>\n",
       "      <td>26.128611</td>\n",
       "      <td>(25.0, 30.0]</td>\n",
       "    </tr>\n",
       "    <tr>\n",
       "      <th>37563</th>\n",
       "      <td>54612</td>\n",
       "      <td>59.336986</td>\n",
       "      <td>1</td>\n",
       "      <td>156</td>\n",
       "      <td>70.0</td>\n",
       "      <td>150</td>\n",
       "      <td>809</td>\n",
       "      <td>2</td>\n",
       "      <td>2</td>\n",
       "      <td>0</td>\n",
       "      <td>0</td>\n",
       "      <td>1</td>\n",
       "      <td>0</td>\n",
       "      <td>(40.0, 65.0]</td>\n",
       "      <td>(150.0, 200.0]</td>\n",
       "      <td>28.763971</td>\n",
       "      <td>(25.0, 30.0]</td>\n",
       "    </tr>\n",
       "    <tr>\n",
       "      <th>37592</th>\n",
       "      <td>54656</td>\n",
       "      <td>57.687671</td>\n",
       "      <td>2</td>\n",
       "      <td>172</td>\n",
       "      <td>100.0</td>\n",
       "      <td>130</td>\n",
       "      <td>810</td>\n",
       "      <td>2</td>\n",
       "      <td>2</td>\n",
       "      <td>1</td>\n",
       "      <td>1</td>\n",
       "      <td>1</td>\n",
       "      <td>1</td>\n",
       "      <td>(40.0, 65.0]</td>\n",
       "      <td>(150.0, 200.0]</td>\n",
       "      <td>33.802055</td>\n",
       "      <td>(30.0, 300.0]</td>\n",
       "    </tr>\n",
       "    <tr>\n",
       "      <th>40097</th>\n",
       "      <td>58298</td>\n",
       "      <td>50.317808</td>\n",
       "      <td>1</td>\n",
       "      <td>168</td>\n",
       "      <td>79.0</td>\n",
       "      <td>120</td>\n",
       "      <td>801</td>\n",
       "      <td>1</td>\n",
       "      <td>1</td>\n",
       "      <td>0</td>\n",
       "      <td>0</td>\n",
       "      <td>1</td>\n",
       "      <td>0</td>\n",
       "      <td>(40.0, 65.0]</td>\n",
       "      <td>(150.0, 200.0]</td>\n",
       "      <td>27.990363</td>\n",
       "      <td>(25.0, 30.0]</td>\n",
       "    </tr>\n",
       "    <tr>\n",
       "      <th>44207</th>\n",
       "      <td>64128</td>\n",
       "      <td>61.531507</td>\n",
       "      <td>1</td>\n",
       "      <td>148</td>\n",
       "      <td>74.0</td>\n",
       "      <td>180</td>\n",
       "      <td>902</td>\n",
       "      <td>2</td>\n",
       "      <td>2</td>\n",
       "      <td>0</td>\n",
       "      <td>0</td>\n",
       "      <td>1</td>\n",
       "      <td>1</td>\n",
       "      <td>(40.0, 65.0]</td>\n",
       "      <td>(100.0, 150.0]</td>\n",
       "      <td>33.783784</td>\n",
       "      <td>(30.0, 300.0]</td>\n",
       "    </tr>\n",
       "    <tr>\n",
       "      <th>45633</th>\n",
       "      <td>66175</td>\n",
       "      <td>39.986301</td>\n",
       "      <td>2</td>\n",
       "      <td>176</td>\n",
       "      <td>70.0</td>\n",
       "      <td>120</td>\n",
       "      <td>820</td>\n",
       "      <td>1</td>\n",
       "      <td>1</td>\n",
       "      <td>0</td>\n",
       "      <td>0</td>\n",
       "      <td>0</td>\n",
       "      <td>0</td>\n",
       "      <td>(18.0, 40.0]</td>\n",
       "      <td>(150.0, 200.0]</td>\n",
       "      <td>22.598140</td>\n",
       "      <td>(18.0, 25.0]</td>\n",
       "    </tr>\n",
       "    <tr>\n",
       "      <th>49539</th>\n",
       "      <td>71695</td>\n",
       "      <td>53.794521</td>\n",
       "      <td>2</td>\n",
       "      <td>171</td>\n",
       "      <td>89.0</td>\n",
       "      <td>140</td>\n",
       "      <td>900</td>\n",
       "      <td>1</td>\n",
       "      <td>1</td>\n",
       "      <td>0</td>\n",
       "      <td>0</td>\n",
       "      <td>0</td>\n",
       "      <td>1</td>\n",
       "      <td>(40.0, 65.0]</td>\n",
       "      <td>(150.0, 200.0]</td>\n",
       "      <td>30.436716</td>\n",
       "      <td>(30.0, 300.0]</td>\n",
       "    </tr>\n",
       "    <tr>\n",
       "      <th>53474</th>\n",
       "      <td>77262</td>\n",
       "      <td>53.827397</td>\n",
       "      <td>1</td>\n",
       "      <td>164</td>\n",
       "      <td>102.0</td>\n",
       "      <td>120</td>\n",
       "      <td>809</td>\n",
       "      <td>1</td>\n",
       "      <td>1</td>\n",
       "      <td>0</td>\n",
       "      <td>0</td>\n",
       "      <td>0</td>\n",
       "      <td>0</td>\n",
       "      <td>(40.0, 65.0]</td>\n",
       "      <td>(150.0, 200.0]</td>\n",
       "      <td>37.923855</td>\n",
       "      <td>(30.0, 300.0]</td>\n",
       "    </tr>\n",
       "    <tr>\n",
       "      <th>55850</th>\n",
       "      <td>80714</td>\n",
       "      <td>64.309589</td>\n",
       "      <td>2</td>\n",
       "      <td>168</td>\n",
       "      <td>74.0</td>\n",
       "      <td>130</td>\n",
       "      <td>700</td>\n",
       "      <td>1</td>\n",
       "      <td>1</td>\n",
       "      <td>1</td>\n",
       "      <td>1</td>\n",
       "      <td>1</td>\n",
       "      <td>0</td>\n",
       "      <td>(40.0, 65.0]</td>\n",
       "      <td>(150.0, 200.0]</td>\n",
       "      <td>26.218821</td>\n",
       "      <td>(25.0, 30.0]</td>\n",
       "    </tr>\n",
       "    <tr>\n",
       "      <th>56521</th>\n",
       "      <td>81683</td>\n",
       "      <td>52.320548</td>\n",
       "      <td>1</td>\n",
       "      <td>161</td>\n",
       "      <td>70.0</td>\n",
       "      <td>140</td>\n",
       "      <td>910</td>\n",
       "      <td>3</td>\n",
       "      <td>1</td>\n",
       "      <td>0</td>\n",
       "      <td>0</td>\n",
       "      <td>1</td>\n",
       "      <td>1</td>\n",
       "      <td>(40.0, 65.0]</td>\n",
       "      <td>(150.0, 200.0]</td>\n",
       "      <td>27.005131</td>\n",
       "      <td>(25.0, 30.0]</td>\n",
       "    </tr>\n",
       "    <tr>\n",
       "      <th>61454</th>\n",
       "      <td>88752</td>\n",
       "      <td>58.010959</td>\n",
       "      <td>1</td>\n",
       "      <td>160</td>\n",
       "      <td>67.0</td>\n",
       "      <td>140</td>\n",
       "      <td>900</td>\n",
       "      <td>2</td>\n",
       "      <td>1</td>\n",
       "      <td>0</td>\n",
       "      <td>0</td>\n",
       "      <td>1</td>\n",
       "      <td>1</td>\n",
       "      <td>(40.0, 65.0]</td>\n",
       "      <td>(150.0, 200.0]</td>\n",
       "      <td>26.171875</td>\n",
       "      <td>(25.0, 30.0]</td>\n",
       "    </tr>\n",
       "    <tr>\n",
       "      <th>63181</th>\n",
       "      <td>91198</td>\n",
       "      <td>49.813699</td>\n",
       "      <td>2</td>\n",
       "      <td>186</td>\n",
       "      <td>95.0</td>\n",
       "      <td>100</td>\n",
       "      <td>901</td>\n",
       "      <td>2</td>\n",
       "      <td>2</td>\n",
       "      <td>0</td>\n",
       "      <td>0</td>\n",
       "      <td>1</td>\n",
       "      <td>0</td>\n",
       "      <td>(40.0, 65.0]</td>\n",
       "      <td>(150.0, 200.0]</td>\n",
       "      <td>27.459822</td>\n",
       "      <td>(25.0, 30.0]</td>\n",
       "    </tr>\n",
       "    <tr>\n",
       "      <th>63613</th>\n",
       "      <td>91794</td>\n",
       "      <td>53.123288</td>\n",
       "      <td>1</td>\n",
       "      <td>150</td>\n",
       "      <td>72.0</td>\n",
       "      <td>125</td>\n",
       "      <td>880</td>\n",
       "      <td>3</td>\n",
       "      <td>1</td>\n",
       "      <td>0</td>\n",
       "      <td>0</td>\n",
       "      <td>1</td>\n",
       "      <td>1</td>\n",
       "      <td>(40.0, 65.0]</td>\n",
       "      <td>(100.0, 150.0]</td>\n",
       "      <td>32.000000</td>\n",
       "      <td>(30.0, 300.0]</td>\n",
       "    </tr>\n",
       "    <tr>\n",
       "      <th>63649</th>\n",
       "      <td>91842</td>\n",
       "      <td>57.898630</td>\n",
       "      <td>1</td>\n",
       "      <td>168</td>\n",
       "      <td>72.0</td>\n",
       "      <td>120</td>\n",
       "      <td>870</td>\n",
       "      <td>3</td>\n",
       "      <td>3</td>\n",
       "      <td>0</td>\n",
       "      <td>0</td>\n",
       "      <td>1</td>\n",
       "      <td>1</td>\n",
       "      <td>(40.0, 65.0]</td>\n",
       "      <td>(150.0, 200.0]</td>\n",
       "      <td>25.510204</td>\n",
       "      <td>(25.0, 30.0]</td>\n",
       "    </tr>\n",
       "    <tr>\n",
       "      <th>63710</th>\n",
       "      <td>91933</td>\n",
       "      <td>57.964384</td>\n",
       "      <td>2</td>\n",
       "      <td>173</td>\n",
       "      <td>94.0</td>\n",
       "      <td>13</td>\n",
       "      <td>585</td>\n",
       "      <td>2</td>\n",
       "      <td>1</td>\n",
       "      <td>0</td>\n",
       "      <td>0</td>\n",
       "      <td>1</td>\n",
       "      <td>1</td>\n",
       "      <td>(40.0, 65.0]</td>\n",
       "      <td>(150.0, 200.0]</td>\n",
       "      <td>31.407665</td>\n",
       "      <td>(30.0, 300.0]</td>\n",
       "    </tr>\n",
       "    <tr>\n",
       "      <th>67351</th>\n",
       "      <td>97190</td>\n",
       "      <td>49.328767</td>\n",
       "      <td>1</td>\n",
       "      <td>167</td>\n",
       "      <td>69.0</td>\n",
       "      <td>150</td>\n",
       "      <td>709</td>\n",
       "      <td>2</td>\n",
       "      <td>1</td>\n",
       "      <td>0</td>\n",
       "      <td>0</td>\n",
       "      <td>0</td>\n",
       "      <td>0</td>\n",
       "      <td>(40.0, 65.0]</td>\n",
       "      <td>(150.0, 200.0]</td>\n",
       "      <td>24.740937</td>\n",
       "      <td>(18.0, 25.0]</td>\n",
       "    </tr>\n",
       "    <tr>\n",
       "      <th>68621</th>\n",
       "      <td>99006</td>\n",
       "      <td>57.695890</td>\n",
       "      <td>2</td>\n",
       "      <td>168</td>\n",
       "      <td>63.0</td>\n",
       "      <td>120</td>\n",
       "      <td>602</td>\n",
       "      <td>1</td>\n",
       "      <td>1</td>\n",
       "      <td>0</td>\n",
       "      <td>0</td>\n",
       "      <td>0</td>\n",
       "      <td>0</td>\n",
       "      <td>(40.0, 65.0]</td>\n",
       "      <td>(150.0, 200.0]</td>\n",
       "      <td>22.321429</td>\n",
       "      <td>(18.0, 25.0]</td>\n",
       "    </tr>\n",
       "  </tbody>\n",
       "</table>\n",
       "</div>"
      ],
      "text/plain": [
       "          id        age  gender  height  weight  ap_hi  ap_lo  cholesterol  \\\n",
       "6766   10644  62.134247       1     154    84.0    140    902            1   \n",
       "8156   12626  39.197260       1     165    65.0    120    802            1   \n",
       "9622   14728  55.410959       1     165    65.0    120    850            1   \n",
       "10158  15529  53.583562       1     164    85.0    160    708            1   \n",
       "14384  21573  50.493151       1     155    56.0    140    709            1   \n",
       "14866  22240  39.849315       2     176    67.0    130    708            1   \n",
       "15767  23523  56.446575       1     165    62.0    120    800            1   \n",
       "16674  24824  51.997260       1     157    69.0    112    800            1   \n",
       "19217  28435  62.041096       1     160    60.0    120    850            1   \n",
       "20550  30356  44.416438       1     173    78.0    110    710            1   \n",
       "21549  31790  49.389041       1     156    55.0    120    800            1   \n",
       "22065  32517  54.271233       1     162    63.0    150    800            1   \n",
       "25130  36862  59.745205       2     180    60.0    110    710            1   \n",
       "30703  44828  57.652055       2     164    68.0    130    809            3   \n",
       "31034  45318  51.665753       1     166    72.0    120    801            1   \n",
       "37563  54612  59.336986       1     156    70.0    150    809            2   \n",
       "37592  54656  57.687671       2     172   100.0    130    810            2   \n",
       "40097  58298  50.317808       1     168    79.0    120    801            1   \n",
       "44207  64128  61.531507       1     148    74.0    180    902            2   \n",
       "45633  66175  39.986301       2     176    70.0    120    820            1   \n",
       "49539  71695  53.794521       2     171    89.0    140    900            1   \n",
       "53474  77262  53.827397       1     164   102.0    120    809            1   \n",
       "55850  80714  64.309589       2     168    74.0    130    700            1   \n",
       "56521  81683  52.320548       1     161    70.0    140    910            3   \n",
       "61454  88752  58.010959       1     160    67.0    140    900            2   \n",
       "63181  91198  49.813699       2     186    95.0    100    901            2   \n",
       "63613  91794  53.123288       1     150    72.0    125    880            3   \n",
       "63649  91842  57.898630       1     168    72.0    120    870            3   \n",
       "63710  91933  57.964384       2     173    94.0     13    585            2   \n",
       "67351  97190  49.328767       1     167    69.0    150    709            2   \n",
       "68621  99006  57.695890       2     168    63.0    120    602            1   \n",
       "\n",
       "       gluc  smoke  alco  active  cardio     age range    height range  \\\n",
       "6766      1      0     0       1       0  (40.0, 65.0]  (150.0, 200.0]   \n",
       "8156      1      0     0       0       1  (18.0, 40.0]  (150.0, 200.0]   \n",
       "9622      1      0     0       0       1  (40.0, 65.0]  (150.0, 200.0]   \n",
       "10158     1      0     0       1       0  (40.0, 65.0]  (150.0, 200.0]   \n",
       "14384     1      0     0       1       1  (40.0, 65.0]  (150.0, 200.0]   \n",
       "14866     2      1     1       1       0  (18.0, 40.0]  (150.0, 200.0]   \n",
       "15767     1      0     0       1       1  (40.0, 65.0]  (150.0, 200.0]   \n",
       "16674     1      0     0       1       1  (40.0, 65.0]  (150.0, 200.0]   \n",
       "19217     1      0     0       1       1  (40.0, 65.0]  (150.0, 200.0]   \n",
       "20550     1      0     0       1       0  (40.0, 65.0]  (150.0, 200.0]   \n",
       "21549     1      0     0       1       0  (40.0, 65.0]  (150.0, 200.0]   \n",
       "22065     1      0     0       1       1  (40.0, 65.0]  (150.0, 200.0]   \n",
       "25130     1      1     0       1       0  (40.0, 65.0]  (150.0, 200.0]   \n",
       "30703     3      0     0       1       0  (40.0, 65.0]  (150.0, 200.0]   \n",
       "31034     1      0     0       1       0  (40.0, 65.0]  (150.0, 200.0]   \n",
       "37563     2      0     0       1       0  (40.0, 65.0]  (150.0, 200.0]   \n",
       "37592     2      1     1       1       1  (40.0, 65.0]  (150.0, 200.0]   \n",
       "40097     1      0     0       1       0  (40.0, 65.0]  (150.0, 200.0]   \n",
       "44207     2      0     0       1       1  (40.0, 65.0]  (100.0, 150.0]   \n",
       "45633     1      0     0       0       0  (18.0, 40.0]  (150.0, 200.0]   \n",
       "49539     1      0     0       0       1  (40.0, 65.0]  (150.0, 200.0]   \n",
       "53474     1      0     0       0       0  (40.0, 65.0]  (150.0, 200.0]   \n",
       "55850     1      1     1       1       0  (40.0, 65.0]  (150.0, 200.0]   \n",
       "56521     1      0     0       1       1  (40.0, 65.0]  (150.0, 200.0]   \n",
       "61454     1      0     0       1       1  (40.0, 65.0]  (150.0, 200.0]   \n",
       "63181     2      0     0       1       0  (40.0, 65.0]  (150.0, 200.0]   \n",
       "63613     1      0     0       1       1  (40.0, 65.0]  (100.0, 150.0]   \n",
       "63649     3      0     0       1       1  (40.0, 65.0]  (150.0, 200.0]   \n",
       "63710     1      0     0       1       1  (40.0, 65.0]  (150.0, 200.0]   \n",
       "67351     1      0     0       0       0  (40.0, 65.0]  (150.0, 200.0]   \n",
       "68621     1      0     0       0       0  (40.0, 65.0]  (150.0, 200.0]   \n",
       "\n",
       "             bmi      bmi range  \n",
       "6766   35.419126  (30.0, 300.0]  \n",
       "8156   23.875115   (18.0, 25.0]  \n",
       "9622   23.875115   (18.0, 25.0]  \n",
       "10158  31.603212  (30.0, 300.0]  \n",
       "14384  23.309053   (18.0, 25.0]  \n",
       "14866  21.629649   (18.0, 25.0]  \n",
       "15767  22.773186   (18.0, 25.0]  \n",
       "16674  27.993022   (25.0, 30.0]  \n",
       "19217  23.437500   (18.0, 25.0]  \n",
       "20550  26.061679   (25.0, 30.0]  \n",
       "21549  22.600263   (18.0, 25.0]  \n",
       "22065  24.005487   (18.0, 25.0]  \n",
       "25130  18.518519   (18.0, 25.0]  \n",
       "30703  25.282570   (25.0, 30.0]  \n",
       "31034  26.128611   (25.0, 30.0]  \n",
       "37563  28.763971   (25.0, 30.0]  \n",
       "37592  33.802055  (30.0, 300.0]  \n",
       "40097  27.990363   (25.0, 30.0]  \n",
       "44207  33.783784  (30.0, 300.0]  \n",
       "45633  22.598140   (18.0, 25.0]  \n",
       "49539  30.436716  (30.0, 300.0]  \n",
       "53474  37.923855  (30.0, 300.0]  \n",
       "55850  26.218821   (25.0, 30.0]  \n",
       "56521  27.005131   (25.0, 30.0]  \n",
       "61454  26.171875   (25.0, 30.0]  \n",
       "63181  27.459822   (25.0, 30.0]  \n",
       "63613  32.000000  (30.0, 300.0]  \n",
       "63649  25.510204   (25.0, 30.0]  \n",
       "63710  31.407665  (30.0, 300.0]  \n",
       "67351  24.740937   (18.0, 25.0]  \n",
       "68621  22.321429   (18.0, 25.0]  "
      ]
     },
     "execution_count": 131,
     "metadata": {},
     "output_type": "execute_result"
    }
   ],
   "source": [
    "trimmed_df[(trimmed_df['ap_lo']>300)&(trimmed_df['ap_lo']<1000)]"
   ]
  },
  {
   "cell_type": "markdown",
   "metadata": {},
   "source": [
    "**Removing outliers**"
   ]
  },
  {
   "cell_type": "code",
   "execution_count": 132,
   "metadata": {},
   "outputs": [
    {
     "data": {
      "text/plain": [
       "Index(['id', 'age', 'gender', 'height', 'weight', 'ap_hi', 'ap_lo',\n",
       "       'cholesterol', 'gluc', 'smoke', 'alco', 'active', 'cardio', 'age range',\n",
       "       'height range', 'bmi', 'bmi range'],\n",
       "      dtype='object')"
      ]
     },
     "execution_count": 132,
     "metadata": {},
     "output_type": "execute_result"
    }
   ],
   "source": [
    "df.columns"
   ]
  },
  {
   "cell_type": "code",
   "execution_count": 133,
   "metadata": {},
   "outputs": [
    {
     "data": {
      "text/plain": [
       "0.00      -70.0\n",
       "0.10       70.0\n",
       "0.25       80.0\n",
       "0.50       80.0\n",
       "0.75       90.0\n",
       "0.90       90.0\n",
       "0.95      100.0\n",
       "1.00    11000.0\n",
       "Name: ap_lo, dtype: float64"
      ]
     },
     "execution_count": 133,
     "metadata": {},
     "output_type": "execute_result"
    }
   ],
   "source": [
    "df['ap_lo'].quantile([0, 0.1, 0.25, 0.5, 0.75, 0.9, 0.95, 1])"
   ]
  },
  {
   "cell_type": "code",
   "execution_count": 134,
   "metadata": {},
   "outputs": [],
   "source": [
    "df=df[df['ap_lo']<150]\n",
    "df=df[df['ap_hi']<1000]\n",
    "df=df[df['bmi']<100]"
   ]
  },
  {
   "cell_type": "code",
   "execution_count": 160,
   "metadata": {},
   "outputs": [
    {
     "data": {
      "text/plain": [
       "Text(0.5, 1.0, 'bmi Distribution')"
      ]
     },
     "execution_count": 160,
     "metadata": {},
     "output_type": "execute_result"
    },
    {
     "data": {
      "image/png": "[encoded data removed]",
      "text/plain": [
       "<Figure size 1080x432 with 3 Axes>"
      ]
     },
     "metadata": {},
     "output_type": "display_data"
    }
   ],
   "source": [
    "# Plot the distribution of these variables?\n",
    "\n",
    "# Set up the matplotlib figure\n",
    "f, axes = plt.subplots(ncols=3, figsize=(15, 6))\n",
    "\n",
    "# ap_hi\n",
    "sns.distplot(df.ap_hi, kde=False, color=\"g\", ax=axes[0]).set_title('ap_hi Distribution')\n",
    "axes[0].set_ylabel('Frequency')\n",
    "\n",
    "# ap_lo\n",
    "sns.distplot(df.ap_lo, kde=False, color=\"r\", ax=axes[1]).set_title('ap_lo Distribution')\n",
    "\n",
    "\n",
    "# bmi\n",
    "sns.distplot(df.bmi, kde=False, color=\"b\", ax=axes[2]).set_title('bmi Distribution')"
   ]
  },
  {
   "cell_type": "code",
   "execution_count": 135,
   "metadata": {},
   "outputs": [
    {
     "data": {
      "text/plain": [
       "<seaborn.axisgrid.FacetGrid at 0x28d0bc17a48>"
      ]
     },
     "execution_count": 135,
     "metadata": {},
     "output_type": "execute_result"
    },
    {
     "data": {
      "image/png": "[encoded data removed]",
      "text/plain": [
       "<Figure size 405.725x360 with 1 Axes>"
      ]
     },
     "metadata": {
      "needs_background": "light"
     },
     "output_type": "display_data"
    }
   ],
   "source": [
    "sns.catplot(x=\"cholesterol\", y=\"cardio\", hue=\"gender\", kind=\"bar\", data=df, ci=None)"
   ]
  },
  {
   "cell_type": "code",
   "execution_count": 136,
   "metadata": {},
   "outputs": [
    {
     "data": {
      "text/plain": [
       "<seaborn.axisgrid.FacetGrid at 0x28d0bbce608>"
      ]
     },
     "execution_count": 136,
     "metadata": {},
     "output_type": "execute_result"
    },
    {
     "data": {
      "image/png": "[encoded data removed]",
      "text/plain": [
       "<Figure size 405.725x360 with 1 Axes>"
      ]
     },
     "metadata": {
      "needs_background": "light"
     },
     "output_type": "display_data"
    }
   ],
   "source": [
    "sns.catplot(x=\"gluc\", y=\"cardio\", hue=\"gender\", kind=\"bar\", data=df, ci=None, palette=sns.color_palette(['green', 'yellow']))"
   ]
  },
  {
   "cell_type": "code",
   "execution_count": 137,
   "metadata": {},
   "outputs": [],
   "source": [
    "df=df[['id','age','gender','bmi','ap_hi', 'ap_lo','cholesterol', 'gluc', 'smoke', 'alco','active', 'cardio']]"
   ]
  },
  {
   "cell_type": "code",
   "execution_count": 138,
   "metadata": {},
   "outputs": [
    {
     "data": {
      "text/plain": [
       "id             0\n",
       "age            0\n",
       "gender         0\n",
       "bmi            0\n",
       "ap_hi          0\n",
       "ap_lo          0\n",
       "cholesterol    0\n",
       "gluc           0\n",
       "smoke          0\n",
       "alco           0\n",
       "active         0\n",
       "cardio         0\n",
       "dtype: int64"
      ]
     },
     "execution_count": 138,
     "metadata": {},
     "output_type": "execute_result"
    }
   ],
   "source": [
    "df.isnull().sum()"
   ]
  },
  {
   "cell_type": "code",
   "execution_count": 139,
   "metadata": {},
   "outputs": [
    {
     "data": {
      "text/plain": [
       "id               int64\n",
       "age            float64\n",
       "gender           int64\n",
       "bmi            float64\n",
       "ap_hi            int64\n",
       "ap_lo            int64\n",
       "cholesterol      int64\n",
       "gluc             int64\n",
       "smoke            int64\n",
       "alco             int64\n",
       "active           int64\n",
       "cardio           int64\n",
       "dtype: object"
      ]
     },
     "execution_count": 139,
     "metadata": {},
     "output_type": "execute_result"
    }
   ],
   "source": [
    "df.dtypes"
   ]
  },
  {
   "cell_type": "markdown",
   "metadata": {},
   "source": [
    "Create dummy variables"
   ]
  },
  {
   "cell_type": "code",
   "execution_count": 140,
   "metadata": {},
   "outputs": [
    {
     "data": {
      "text/html": [
       "<div>\n",
       "<style scoped>\n",
       "    .dataframe tbody tr th:only-of-type {\n",
       "        vertical-align: middle;\n",
       "    }\n",
       "\n",
       "    .dataframe tbody tr th {\n",
       "        vertical-align: top;\n",
       "    }\n",
       "\n",
       "    .dataframe thead th {\n",
       "        text-align: right;\n",
       "    }\n",
       "</style>\n",
       "<table border=\"1\" class=\"dataframe\">\n",
       "  <thead>\n",
       "    <tr style=\"text-align: right;\">\n",
       "      <th></th>\n",
       "      <th>id</th>\n",
       "      <th>age</th>\n",
       "      <th>gender</th>\n",
       "      <th>bmi</th>\n",
       "      <th>ap_hi</th>\n",
       "      <th>ap_lo</th>\n",
       "      <th>smoke</th>\n",
       "      <th>alco</th>\n",
       "      <th>active</th>\n",
       "      <th>cardio</th>\n",
       "      <th>cholesterol_2</th>\n",
       "      <th>cholesterol_3</th>\n",
       "      <th>gluc_2</th>\n",
       "      <th>gluc_3</th>\n",
       "    </tr>\n",
       "  </thead>\n",
       "  <tbody>\n",
       "    <tr>\n",
       "      <th>0</th>\n",
       "      <td>988</td>\n",
       "      <td>61.558904</td>\n",
       "      <td>1</td>\n",
       "      <td>28.720083</td>\n",
       "      <td>130</td>\n",
       "      <td>80</td>\n",
       "      <td>0</td>\n",
       "      <td>0</td>\n",
       "      <td>1</td>\n",
       "      <td>0</td>\n",
       "      <td>1</td>\n",
       "      <td>0</td>\n",
       "      <td>1</td>\n",
       "      <td>0</td>\n",
       "    </tr>\n",
       "    <tr>\n",
       "      <th>1</th>\n",
       "      <td>989</td>\n",
       "      <td>40.131507</td>\n",
       "      <td>1</td>\n",
       "      <td>26.722873</td>\n",
       "      <td>110</td>\n",
       "      <td>70</td>\n",
       "      <td>0</td>\n",
       "      <td>0</td>\n",
       "      <td>1</td>\n",
       "      <td>1</td>\n",
       "      <td>0</td>\n",
       "      <td>0</td>\n",
       "      <td>0</td>\n",
       "      <td>0</td>\n",
       "    </tr>\n",
       "    <tr>\n",
       "      <th>2</th>\n",
       "      <td>990</td>\n",
       "      <td>60.002740</td>\n",
       "      <td>1</td>\n",
       "      <td>25.711662</td>\n",
       "      <td>120</td>\n",
       "      <td>80</td>\n",
       "      <td>0</td>\n",
       "      <td>0</td>\n",
       "      <td>1</td>\n",
       "      <td>0</td>\n",
       "      <td>0</td>\n",
       "      <td>0</td>\n",
       "      <td>0</td>\n",
       "      <td>0</td>\n",
       "    </tr>\n",
       "    <tr>\n",
       "      <th>3</th>\n",
       "      <td>991</td>\n",
       "      <td>39.860274</td>\n",
       "      <td>2</td>\n",
       "      <td>31.221304</td>\n",
       "      <td>120</td>\n",
       "      <td>80</td>\n",
       "      <td>1</td>\n",
       "      <td>1</td>\n",
       "      <td>1</td>\n",
       "      <td>0</td>\n",
       "      <td>0</td>\n",
       "      <td>0</td>\n",
       "      <td>0</td>\n",
       "      <td>0</td>\n",
       "    </tr>\n",
       "    <tr>\n",
       "      <th>4</th>\n",
       "      <td>992</td>\n",
       "      <td>64.090411</td>\n",
       "      <td>1</td>\n",
       "      <td>25.806452</td>\n",
       "      <td>120</td>\n",
       "      <td>80</td>\n",
       "      <td>0</td>\n",
       "      <td>0</td>\n",
       "      <td>1</td>\n",
       "      <td>0</td>\n",
       "      <td>0</td>\n",
       "      <td>0</td>\n",
       "      <td>0</td>\n",
       "      <td>0</td>\n",
       "    </tr>\n",
       "  </tbody>\n",
       "</table>\n",
       "</div>"
      ],
      "text/plain": [
       "    id        age  gender        bmi  ap_hi  ap_lo  smoke  alco  active  \\\n",
       "0  988  61.558904       1  28.720083    130     80      0     0       1   \n",
       "1  989  40.131507       1  26.722873    110     70      0     0       1   \n",
       "2  990  60.002740       1  25.711662    120     80      0     0       1   \n",
       "3  991  39.860274       2  31.221304    120     80      1     1       1   \n",
       "4  992  64.090411       1  25.806452    120     80      0     0       1   \n",
       "\n",
       "   cardio  cholesterol_2  cholesterol_3  gluc_2  gluc_3  \n",
       "0       0              1              0       1       0  \n",
       "1       1              0              0       0       0  \n",
       "2       0              0              0       0       0  \n",
       "3       0              0              0       0       0  \n",
       "4       0              0              0       0       0  "
      ]
     },
     "execution_count": 140,
     "metadata": {},
     "output_type": "execute_result"
    }
   ],
   "source": [
    "cat_var = ['cholesterol', 'gluc']\n",
    "df[cat_var]=df[cat_var].astype('object')\n",
    "num_var=[]\n",
    "for ls in df.columns:\n",
    "    if ls not in cat_var:\n",
    "        num_var.append(ls)\n",
    "categorical_df = pd.get_dummies(df[cat_var],drop_first=True)\n",
    "numerical_df = df[num_var]\n",
    "\n",
    "data = pd.concat([numerical_df,categorical_df], axis=1)\n",
    "data.head()"
   ]
  },
  {
   "cell_type": "code",
   "execution_count": 141,
   "metadata": {},
   "outputs": [],
   "source": [
    "# Changing 0 as male and 1 as female\n",
    "\n",
    "di = {1: 0, 2: 1}\n",
    "data[\"gender\"].replace(di, inplace=True)"
   ]
  },
  {
   "cell_type": "code",
   "execution_count": 142,
   "metadata": {},
   "outputs": [
    {
     "data": {
      "text/plain": [
       "<matplotlib.axes._subplots.AxesSubplot at 0x28d0bbea448>"
      ]
     },
     "execution_count": 142,
     "metadata": {},
     "output_type": "execute_result"
    },
    {
     "data": {
      "image/png": "[encoded data removed]",
      "text/plain": [
       "<Figure size 432x288 with 2 Axes>"
      ]
     },
     "metadata": {
      "needs_background": "light"
     },
     "output_type": "display_data"
    }
   ],
   "source": [
    "cmap = sns.diverging_palette(h_neg=10, h_pos=240, as_cmap=True)\n",
    "\n",
    "\n",
    "corr = data[['age','bmi','ap_hi', 'ap_lo']].corr()\n",
    "mask = np.triu(np.ones_like(corr, dtype=bool))\n",
    "\n",
    "sns.heatmap(data[['age','bmi','ap_hi', 'ap_lo']].corr(), mask=mask,center=0, cmap=cmap, linewidths=1,annot=True, fmt=\".2f\")"
   ]
  },
  {
   "cell_type": "markdown",
   "metadata": {},
   "source": [
    "**Split into test and train**"
   ]
  },
  {
   "cell_type": "code",
   "execution_count": 143,
   "metadata": {},
   "outputs": [
    {
     "data": {
      "text/plain": [
       "Index(['id', 'age', 'gender', 'bmi', 'ap_hi', 'ap_lo', 'smoke', 'alco',\n",
       "       'active', 'cardio', 'cholesterol_2', 'cholesterol_3', 'gluc_2',\n",
       "       'gluc_3'],\n",
       "      dtype='object')"
      ]
     },
     "execution_count": 143,
     "metadata": {},
     "output_type": "execute_result"
    }
   ],
   "source": [
    "data.columns"
   ]
  },
  {
   "cell_type": "code",
   "execution_count": 144,
   "metadata": {},
   "outputs": [],
   "source": [
    "y=data['cardio']\n",
    "X=data[['age','gender','bmi','ap_hi', 'ap_lo','cholesterol_2', 'cholesterol_3', 'gluc_2',\n",
    "       'gluc_3', 'smoke', 'alco','active']]"
   ]
  },
  {
   "cell_type": "code",
   "execution_count": 145,
   "metadata": {},
   "outputs": [
    {
     "data": {
      "text/plain": [
       "RandomForestClassifier(bootstrap=True, ccp_alpha=0.0, class_weight=None,\n",
       "                       criterion='gini', max_depth=None, max_features='auto',\n",
       "                       max_leaf_nodes=None, max_samples=None,\n",
       "                       min_impurity_decrease=0.0, min_impurity_split=None,\n",
       "                       min_samples_leaf=1, min_samples_split=2,\n",
       "                       min_weight_fraction_leaf=0.0, n_estimators=100,\n",
       "                       n_jobs=None, oob_score=False, random_state=None,\n",
       "                       verbose=0, warm_start=False)"
      ]
     },
     "execution_count": 145,
     "metadata": {},
     "output_type": "execute_result"
    }
   ],
   "source": [
    "from sklearn.ensemble import RandomForestClassifier\n",
    "\n",
    "rf = RandomForestClassifier()\n",
    "rf.fit(X, y)"
   ]
  },
  {
   "cell_type": "code",
   "execution_count": 146,
   "metadata": {},
   "outputs": [
    {
     "data": {
      "text/html": [
       "<div>\n",
       "<style scoped>\n",
       "    .dataframe tbody tr th:only-of-type {\n",
       "        vertical-align: middle;\n",
       "    }\n",
       "\n",
       "    .dataframe tbody tr th {\n",
       "        vertical-align: top;\n",
       "    }\n",
       "\n",
       "    .dataframe thead th {\n",
       "        text-align: right;\n",
       "    }\n",
       "</style>\n",
       "<table border=\"1\" class=\"dataframe\">\n",
       "  <thead>\n",
       "    <tr style=\"text-align: right;\">\n",
       "      <th></th>\n",
       "      <th>index</th>\n",
       "      <th>importance</th>\n",
       "    </tr>\n",
       "  </thead>\n",
       "  <tbody>\n",
       "    <tr>\n",
       "      <th>0</th>\n",
       "      <td>age</td>\n",
       "      <td>0.356326</td>\n",
       "    </tr>\n",
       "    <tr>\n",
       "      <th>1</th>\n",
       "      <td>bmi</td>\n",
       "      <td>0.301997</td>\n",
       "    </tr>\n",
       "    <tr>\n",
       "      <th>2</th>\n",
       "      <td>ap_hi</td>\n",
       "      <td>0.169527</td>\n",
       "    </tr>\n",
       "    <tr>\n",
       "      <th>3</th>\n",
       "      <td>ap_lo</td>\n",
       "      <td>0.086488</td>\n",
       "    </tr>\n",
       "    <tr>\n",
       "      <th>4</th>\n",
       "      <td>cholesterol_3</td>\n",
       "      <td>0.025710</td>\n",
       "    </tr>\n",
       "    <tr>\n",
       "      <th>5</th>\n",
       "      <td>gender</td>\n",
       "      <td>0.012232</td>\n",
       "    </tr>\n",
       "    <tr>\n",
       "      <th>6</th>\n",
       "      <td>active</td>\n",
       "      <td>0.010217</td>\n",
       "    </tr>\n",
       "    <tr>\n",
       "      <th>7</th>\n",
       "      <td>cholesterol_2</td>\n",
       "      <td>0.008808</td>\n",
       "    </tr>\n",
       "    <tr>\n",
       "      <th>8</th>\n",
       "      <td>smoke</td>\n",
       "      <td>0.007540</td>\n",
       "    </tr>\n",
       "    <tr>\n",
       "      <th>9</th>\n",
       "      <td>gluc_2</td>\n",
       "      <td>0.007515</td>\n",
       "    </tr>\n",
       "    <tr>\n",
       "      <th>10</th>\n",
       "      <td>gluc_3</td>\n",
       "      <td>0.007226</td>\n",
       "    </tr>\n",
       "    <tr>\n",
       "      <th>11</th>\n",
       "      <td>alco</td>\n",
       "      <td>0.006414</td>\n",
       "    </tr>\n",
       "  </tbody>\n",
       "</table>\n",
       "</div>"
      ],
      "text/plain": [
       "            index  importance\n",
       "0             age    0.356326\n",
       "1             bmi    0.301997\n",
       "2           ap_hi    0.169527\n",
       "3           ap_lo    0.086488\n",
       "4   cholesterol_3    0.025710\n",
       "5          gender    0.012232\n",
       "6          active    0.010217\n",
       "7   cholesterol_2    0.008808\n",
       "8           smoke    0.007540\n",
       "9          gluc_2    0.007515\n",
       "10         gluc_3    0.007226\n",
       "11           alco    0.006414"
      ]
     },
     "execution_count": 146,
     "metadata": {},
     "output_type": "execute_result"
    }
   ],
   "source": [
    "# Get Feature Importances\n",
    "feature_importances = pd.DataFrame(rf.feature_importances_,\n",
    "                                   index = X.columns,\n",
    "                                    columns=['importance']).sort_values('importance', ascending=False)\n",
    "feature_importances = feature_importances.reset_index()\n",
    "feature_importances"
   ]
  },
  {
   "cell_type": "code",
   "execution_count": 147,
   "metadata": {},
   "outputs": [
    {
     "data": {
      "text/plain": [
       "<matplotlib.axes._subplots.AxesSubplot at 0x28d1b353c08>"
      ]
     },
     "execution_count": 147,
     "metadata": {},
     "output_type": "execute_result"
    },
    {
     "data": {
      "image/png": "[encoded data removed]",
      "text/plain": [
       "<Figure size 720x360 with 1 Axes>"
      ]
     },
     "metadata": {},
     "output_type": "display_data"
    }
   ],
   "source": [
    "sns.set(style=\"whitegrid\")\n",
    "\n",
    "# Initialize the matplotlib figure\n",
    "f, ax = plt.subplots(figsize=(10, 5))\n",
    "\n",
    "# Plot the Feature Importance\n",
    "sns.set_color_codes(\"pastel\")\n",
    "sns.barplot(x=\"importance\", y='index', data=feature_importances[:30],\n",
    "            label=\"Total\", color=\"b\")"
   ]
  },
  {
   "cell_type": "code",
   "execution_count": 148,
   "metadata": {},
   "outputs": [],
   "source": [
    "# Create the X and y set\n",
    "\n",
    "X_train, X_test, y_train, y_test = train_test_split(X, y, test_size=0.15, random_state=40)\n",
    "\n",
    "X_train, X_val, y_train, y_val = train_test_split(X_train, y_train, test_size=0.20, random_state=40)"
   ]
  },
  {
   "cell_type": "code",
   "execution_count": 149,
   "metadata": {},
   "outputs": [],
   "source": [
    "from sklearn.preprocessing import PowerTransformer\n",
    "log = PowerTransformer()"
   ]
  },
  {
   "cell_type": "code",
   "execution_count": 150,
   "metadata": {},
   "outputs": [],
   "source": [
    "for ls in ['bmi','ap_hi', 'ap_lo']:\n",
    "    log.fit(X_train.loc[:,[ls]])\n",
    "    X_train.loc[:,[ls]] = log.transform(X_train.loc[:,[ls]])\n",
    "    X_val.loc[:,[ls]] = log.transform(X_val.loc[:,[ls]])"
   ]
  },
  {
   "cell_type": "code",
   "execution_count": 159,
   "metadata": {},
   "outputs": [
    {
     "data": {
      "text/plain": [
       "Text(0.5, 1.0, 'bmi Distribution')"
      ]
     },
     "execution_count": 159,
     "metadata": {},
     "output_type": "execute_result"
    },
    {
     "data": {
      "image/png": "[encoded data removed]",
      "text/plain": [
       "<Figure size 1080x432 with 3 Axes>"
      ]
     },
     "metadata": {},
     "output_type": "display_data"
    }
   ],
   "source": [
    "# Plot the distribution of these variables?\n",
    "\n",
    "# Set up the matplotlib figure\n",
    "f, axes = plt.subplots(ncols=3, figsize=(15, 6))\n",
    "\n",
    "# ap_hi\n",
    "sns.distplot(X_train.ap_hi, kde=False, color=\"g\", ax=axes[0]).set_title('ap_hi Distribution')\n",
    "axes[0].set_ylabel('Frequency')\n",
    "\n",
    "# ap_lo\n",
    "sns.distplot(X_train.ap_lo, kde=False, color=\"r\", ax=axes[1]).set_title('ap_lo Distribution')\n",
    "\n",
    "# bmi\n",
    "sns.distplot(X_train.bmi, kde=False, color=\"b\", ax=axes[2]).set_title('bmi Distribution')"
   ]
  },
  {
   "cell_type": "markdown",
   "metadata": {},
   "source": [
    "**Baseline model**"
   ]
  },
  {
   "cell_type": "code",
   "execution_count": 152,
   "metadata": {},
   "outputs": [
    {
     "name": "stdout",
     "output_type": "stream",
     "text": [
      "\n",
      "\n",
      " ---Logistic Regression Model---\n",
      "Logistic Regression AUC = 0.73\n",
      "              precision    recall  f1-score   support\n",
      "\n",
      "           0       0.71      0.78      0.74      5873\n",
      "           1       0.75      0.68      0.71      5734\n",
      "\n",
      "    accuracy                           0.73     11607\n",
      "   macro avg       0.73      0.73      0.73     11607\n",
      "weighted avg       0.73      0.73      0.73     11607\n",
      "\n"
     ]
    }
   ],
   "source": [
    "from sklearn.metrics import roc_auc_score\n",
    "from sklearn.metrics import accuracy_score\n",
    "from sklearn.linear_model import LogisticRegression\n",
    "from sklearn.metrics import accuracy_score, classification_report, precision_score, recall_score, confusion_matrix, precision_recall_curve\n",
    "\n",
    "lr = LogisticRegression()\n",
    "\n",
    "# Fit the model to the data\n",
    "lr = lr.fit(X_train, y_train)\n",
    "\n",
    "print (\"\\n\\n ---Logistic Regression Model---\")\n",
    "lr_auc = roc_auc_score(y_val, lr.predict(X_val))\n",
    "\n",
    "print (\"Logistic Regression AUC = %2.2f\" % lr_auc)\n",
    "\n",
    "lr2 = lr.fit(X_train, y_train)\n",
    "print(classification_report(y_val, lr.predict(X_val)))"
   ]
  },
  {
   "cell_type": "markdown",
   "metadata": {},
   "source": [
    "**Try different models**"
   ]
  },
  {
   "cell_type": "code",
   "execution_count": 236,
   "metadata": {},
   "outputs": [
    {
     "name": "stdout",
     "output_type": "stream",
     "text": [
      "The best roc_auc Score for Original data:\n",
      "0.7981090808240839\n"
     ]
    }
   ],
   "source": [
    "from sklearn.model_selection import cross_val_score\n",
    "from xgboost import XGBClassifier\n",
    "\n",
    "# Create the Original, Upsampled, and Downsampled training sets\n",
    "methods_data = {\"Original\": (X_train, y_train)}\n",
    "\n",
    "# Loop through each type of training sets and apply 5-Fold CV using Logistic Regression\n",
    "# By default in cross_val_score StratifiedCV is used\n",
    "for method in methods_data.keys():\n",
    "    lr_results = cross_val_score(XGBClassifier(), methods_data[method][0], methods_data[method][1], cv=10, scoring='roc_auc')\n",
    "    print(f\"The best roc_auc Score for {method} data:\")\n",
    "    print (lr_results.mean())"
   ]
  },
  {
   "cell_type": "markdown",
   "metadata": {},
   "source": [
    "**Hyperparameter tuning**"
   ]
  },
  {
   "cell_type": "code",
   "execution_count": 245,
   "metadata": {},
   "outputs": [
    {
     "name": "stdout",
     "output_type": "stream",
     "text": [
      "Fitting 5 folds for each of 27 candidates, totalling 135 fits\n"
     ]
    },
    {
     "name": "stderr",
     "output_type": "stream",
     "text": [
      "[Parallel(n_jobs=-1)]: Using backend LokyBackend with 8 concurrent workers.\n",
      "[Parallel(n_jobs=-1)]: Done  34 tasks      | elapsed:  4.0min\n",
      "[Parallel(n_jobs=-1)]: Done 135 out of 135 | elapsed: 13.7min finished\n"
     ]
    },
    {
     "name": "stdout",
     "output_type": "stream",
     "text": [
      "Best parameters found:  {'learning_rate': 0.01, 'n_estimators': 400, 'subsample': 0.3}\n",
      "Best ROC found:  0.8962724122094643\n"
     ]
    }
   ],
   "source": [
    "\n",
    "housing_dmatrix = xgb.DMatrix(data=X_train,label=y_train)\n",
    "gbm_param_grid = {'learning_rate': [0.01,0.1,0.5,0.9],\n",
    "'subsample': [0.3, 0.5, 0.9],\n",
    "'learning_rate':[0.1,0.01,0.5],\n",
    "'n_estimators':[200,300,400]}\n",
    "gbm = xgb.XGBClassifier()\n",
    "grid_mse = GridSearchCV(estimator=XGBClassifier(objective= 'binary:logistic'),param_grid=gbm_param_grid,scoring='roc_auc', cv=5, verbose=1, n_jobs=-1)\n",
    "\n",
    "grid_mse.fit(X_train, y_train)\n",
    "print(\"Best parameters found: \",grid_mse.best_params_)\n",
    "print(\"Best ROC found: \", np.sqrt(np.abs(grid_mse.best_score_)))\n"
   ]
  },
  {
   "cell_type": "code",
   "execution_count": 246,
   "metadata": {},
   "outputs": [
    {
     "name": "stdout",
     "output_type": "stream",
     "text": [
      "Fitting 5 folds for each of 120 candidates, totalling 600 fits\n"
     ]
    },
    {
     "name": "stderr",
     "output_type": "stream",
     "text": [
      "[Parallel(n_jobs=-1)]: Using backend LokyBackend with 8 concurrent workers.\n",
      "[Parallel(n_jobs=-1)]: Done  34 tasks      | elapsed:  2.1min\n",
      "[Parallel(n_jobs=-1)]: Done 184 tasks      | elapsed: 12.0min\n",
      "[Parallel(n_jobs=-1)]: Done 434 tasks      | elapsed: 38.0min\n",
      "[Parallel(n_jobs=-1)]: Done 600 out of 600 | elapsed: 62.0min finished\n"
     ]
    },
    {
     "name": "stdout",
     "output_type": "stream",
     "text": [
      "Best parameters found:  {'learning_rate': 0.01, 'max_depth': 5, 'min_child_weight': 1, 'n_estimators': 500, 'subsample': 0.3}\n",
      "Best ROC found:  0.8963178494825552\n"
     ]
    }
   ],
   "source": [
    "housing_dmatrix = xgb.DMatrix(data=X_train,label=y_train)\n",
    "gbm_param_grid = {'subsample': [0.3, 0.5, 0.9],\n",
    "'learning_rate':[0.01],\n",
    "'n_estimators':[400,500],\n",
    "'max_depth':range(3,10,2),\n",
    "'min_child_weight':range(1,10,2)}\n",
    "\n",
    "gbm = xgb.XGBClassifier()\n",
    "grid_mse = GridSearchCV(estimator=XGBClassifier(objective= 'binary:logistic'),param_grid=gbm_param_grid,scoring='roc_auc', cv=5, verbose=1, n_jobs=-1)\n",
    "\n",
    "grid_mse.fit(X_train, y_train)\n",
    "print(\"Best parameters found: \",grid_mse.best_params_)\n",
    "print(\"Best ROC found: \", np.sqrt(np.abs(grid_mse.best_score_)))\n"
   ]
  },
  {
   "cell_type": "code",
   "execution_count": 153,
   "metadata": {},
   "outputs": [
    {
     "name": "stdout",
     "output_type": "stream",
     "text": [
      "Fitting 5 folds for each of 768 candidates, totalling 3840 fits\n"
     ]
    },
    {
     "name": "stderr",
     "output_type": "stream",
     "text": [
      "[Parallel(n_jobs=-1)]: Using backend LokyBackend with 8 concurrent workers.\n",
      "[Parallel(n_jobs=-1)]: Done  34 tasks      | elapsed:   10.6s\n",
      "[Parallel(n_jobs=-1)]: Done 184 tasks      | elapsed:   43.6s\n",
      "[Parallel(n_jobs=-1)]: Done 434 tasks      | elapsed:  2.5min\n",
      "[Parallel(n_jobs=-1)]: Done 784 tasks      | elapsed:  4.7min\n",
      "[Parallel(n_jobs=-1)]: Done 1234 tasks      | elapsed:  7.4min\n",
      "[Parallel(n_jobs=-1)]: Done 1784 tasks      | elapsed: 11.0min\n",
      "[Parallel(n_jobs=-1)]: Done 2434 tasks      | elapsed: 14.8min\n",
      "[Parallel(n_jobs=-1)]: Done 3184 tasks      | elapsed: 19.7min\n",
      "[Parallel(n_jobs=-1)]: Done 3840 out of 3840 | elapsed: 23.3min finished\n"
     ]
    },
    {
     "name": "stdout",
     "output_type": "stream",
     "text": [
      "Best parameters found:  {'colsample_bytree': 0.8, 'learning_rate': 0.05, 'max_depth': 3, 'min_child_weight': 5, 'n_estimators': 300, 'subsample': 0.3}\n",
      "Best ROC found:  0.8950922462159429\n"
     ]
    }
   ],
   "source": [
    "import lightgbm as lgbm\n",
    "\n",
    "gbm_param_grid = {\n",
    "'subsample': [0.3,0.5,0.9,1],\n",
    "'max_depth':range(3,10,2),\n",
    "'min_child_weight':range(1,9,2),\n",
    "'learning_rate':[0.01, 0.05],\n",
    "'n_estimators':[300,400] ,\n",
    "'colsample_bytree':[1.0, 0.9, 0.8]\n",
    "}\n",
    "#gbm = xgb.XGBClassifier()\n",
    "grid_mse1 = GridSearchCV(estimator=lgbm.LGBMClassifier(objective= 'binary',boosting_type= 'gbdt'),param_grid=gbm_param_grid,scoring='roc_auc', cv=5, \n",
    "                        refit=True,n_jobs=-1,verbose=1)\n",
    "\n",
    "grid_mse1.fit(X_train, y_train)\n",
    "print(\"Best parameters found: \",grid_mse1.best_params_)\n",
    "print(\"Best ROC found: \", np.sqrt(np.abs(grid_mse1.best_score_)))"
   ]
  },
  {
   "cell_type": "code",
   "execution_count": 93,
   "metadata": {},
   "outputs": [],
   "source": [
    "def conf_matrix(model,X_test,y_test):\n",
    "  #digits=[0,1]\n",
    "\n",
    "  y_test_pred = model.predict(X_test)\n",
    "  cm = confusion_matrix(y_test,y_test_pred)\n",
    "\n",
    "  akws = {\"ha\": 'center',\"va\": 'top'}\n",
    "  sns.heatmap(cm, annot=True,cmap=\"Blues\",fmt = \".0f\", annot_kws=akws) #xticklabels=digits, yticklabels=digits\n",
    "  plt.title(\"Confusion Matrix\")\n",
    "  plt.ylabel('Prediction')\n",
    "  plt.xlabel('Actual')"
   ]
  },
  {
   "cell_type": "code",
   "execution_count": 154,
   "metadata": {},
   "outputs": [
    {
     "data": {
      "image/png": "[encoded data removed]",
      "text/plain": [
       "<Figure size 432x288 with 2 Axes>"
      ]
     },
     "metadata": {},
     "output_type": "display_data"
    }
   ],
   "source": [
    "conf_matrix(grid_mse1,X_val,y_val)"
   ]
  },
  {
   "cell_type": "code",
   "execution_count": 155,
   "metadata": {},
   "outputs": [],
   "source": [
    "y_pred_val=pd.DataFrame(grid_mse1.predict_proba(X_val))[1]\n",
    "y_pred_val=[0 if x<=0.5 else 1 for x in y_pred_val]"
   ]
  },
  {
   "cell_type": "code",
   "execution_count": 156,
   "metadata": {},
   "outputs": [
    {
     "name": "stdout",
     "output_type": "stream",
     "text": [
      "              precision    recall  f1-score   support\n",
      "\n",
      "           0       0.72      0.78      0.75      5873\n",
      "           1       0.75      0.69      0.72      5734\n",
      "\n",
      "    accuracy                           0.74     11607\n",
      "   macro avg       0.74      0.74      0.74     11607\n",
      "weighted avg       0.74      0.74      0.74     11607\n",
      "\n"
     ]
    }
   ],
   "source": [
    "print(classification_report(y_val, y_pred_val))"
   ]
  },
  {
   "cell_type": "code",
   "execution_count": 310,
   "metadata": {},
   "outputs": [
    {
     "data": {
      "text/plain": [
       "array([[4566, 1347],\n",
       "       [1814, 4054]], dtype=int64)"
      ]
     },
     "execution_count": 310,
     "metadata": {},
     "output_type": "execute_result"
    }
   ],
   "source": [
    "confusion_matrix(y_val, y_pred_val) "
   ]
  },
  {
   "cell_type": "code",
   "execution_count": 300,
   "metadata": {},
   "outputs": [
    {
     "data": {
      "text/plain": [
       "0    23648\n",
       "1    23476\n",
       "Name: cardio, dtype: int64"
      ]
     },
     "execution_count": 300,
     "metadata": {},
     "output_type": "execute_result"
    }
   ],
   "source": [
    "y_train.value_counts()"
   ]
  },
  {
   "cell_type": "code",
   "execution_count": 301,
   "metadata": {},
   "outputs": [
    {
     "data": {
      "text/plain": [
       "0    5913\n",
       "1    5868\n",
       "Name: cardio, dtype: int64"
      ]
     },
     "execution_count": 301,
     "metadata": {},
     "output_type": "execute_result"
    }
   ],
   "source": [
    "y_val.value_counts()"
   ]
  },
  {
   "cell_type": "markdown",
   "metadata": {},
   "source": [
    "Create model dump"
   ]
  },
  {
   "cell_type": "code",
   "execution_count": 288,
   "metadata": {},
   "outputs": [
    {
     "data": {
      "text/plain": [
       "['Lgbm_model.sav']"
      ]
     },
     "execution_count": 288,
     "metadata": {},
     "output_type": "execute_result"
    }
   ],
   "source": [
    "import joblib\n",
    "\n",
    "# save the model to disk\n",
    "\n",
    "# Without any power transformation and removal of outliers\n",
    "filename = 'Lgbm_model.sav'\n",
    "joblib.dump(grid_mse1, filename)"
   ]
  },
  {
   "cell_type": "markdown",
   "metadata": {},
   "source": [
    "Things to try:\n",
    "<li>Remove extreme values\n",
    "<li>Use power transformation   \n",
    "<li>Try NB model    "
   ]
  },
  {
   "cell_type": "code",
   "execution_count": null,
   "metadata": {},
   "outputs": [],
   "source": []
  },
  {
   "cell_type": "code",
   "execution_count": null,
   "metadata": {},
   "outputs": [],
   "source": []
  },
  {
   "cell_type": "code",
   "execution_count": null,
   "metadata": {},
   "outputs": [],
   "source": []
  }
 ],
 "metadata": {
  "kernelspec": {
   "display_name": "Python 3",
   "language": "python",
   "name": "python3"
  },
  "language_info": {
   "codemirror_mode": {
    "name": "ipython",
    "version": 3
   },
   "file_extension": ".py",
   "mimetype": "text/x-python",
   "name": "python",
   "nbconvert_exporter": "python",
   "pygments_lexer": "ipython3",
   "version": "3.7.4"
  }
 },
 "nbformat": 4,
 "nbformat_minor": 4
}
